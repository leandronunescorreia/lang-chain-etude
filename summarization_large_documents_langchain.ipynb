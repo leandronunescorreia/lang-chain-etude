{
 "cells": [
  {
   "cell_type": "code",
   "execution_count": null,
   "metadata": {
    "id": "uxCkB_DXTHzf"
   },
   "outputs": [],
   "source": [
    "# Copyright 2023 Google LLC\n",
    "#\n",
    "# Licensed under the Apache License, Version 2.0 (the \"License\");\n",
    "# you may not use this file except in compliance with the License.\n",
    "# You may obtain a copy of the License at\n",
    "#\n",
    "#     https://www.apache.org/licenses/LICENSE-2.0\n",
    "#\n",
    "# Unless required by applicable law or agreed to in writing, software\n",
    "# distributed under the License is distributed on an \"AS IS\" BASIS,\n",
    "# WITHOUT WARRANTIES OR CONDITIONS OF ANY KIND, either express or implied.\n",
    "# See the License for the specific language governing permissions and\n",
    "# limitations under the License."
   ]
  },
  {
   "cell_type": "markdown",
   "metadata": {
    "id": "Hny4I-ODTIS6"
   },
   "source": [
    "# Text Summarization of Large Documents using LangChain 🦜🔗\n",
    "\n",
    "> **NOTE:** This notebook uses the PaLM generative model, which will reach its [discontinuation date in October 2024](https://cloud.google.com/vertex-ai/generative-ai/docs/model-reference/text#model_versions). Please refer to [this updated notebook](https://github.com/GoogleCloudPlatform/generative-ai/blob/main/gemini/use-cases/document-processing/document_processing.ipynb) for a version which uses the latest Gemini model.\n",
    "\n",
    "<table align=\"left\">\n",
    "  <td style=\"text-align: center\">\n",
    "    <a href=\"https://colab.research.google.com/github/GoogleCloudPlatform/generative-ai/blob/main/language/use-cases/document-summarization/summarization_large_documents_langchain.ipynb\">\n",
    "      <img src=\"https://cloud.google.com/ml-engine/images/colab-logo-32px.png\" alt=\"Google Colaboratory logo\"><br> Run in Colab\n",
    "    </a>\n",
    "  </td>\n",
    "  <td style=\"text-align: center\">\n",
    "    <a href=\"https://github.com/GoogleCloudPlatform/generative-ai/blob/main/language/use-cases/document-summarization/summarization_large_documents_langchain.ipynb\">\n",
    "      <img src=\"https://cloud.google.com/ml-engine/images/github-logo-32px.png\" alt=\"GitHub logo\"><br> View on GitHub\n",
    "    </a>\n",
    "  </td>\n",
    "  <td style=\"text-align: center\">\n",
    "    <a href=\"https://console.cloud.google.com/vertex-ai/workbench/deploy-notebook?download_url=https://raw.githubusercontent.com/GoogleCloudPlatform/generative-ai/main/language/use-cases/document-summarization/summarization_large_documents_langchain.ipynb\">\n",
    "      <img src=\"https://lh3.googleusercontent.com/UiNooY4LUgW_oTvpsNhPpQzsstV5W8F7rYgxgGBD85cWJoLmrOzhVs_ksK_vgx40SHs7jCqkTkCk=e14-rj-sc0xffffff-h130-w32\" alt=\"Vertex AI logo\"><br> Open in Vertex AI Workbench\n",
    "    </a>\n",
    "  </td>\n",
    "</table>\n"
   ]
  },
  {
   "cell_type": "markdown",
   "metadata": {
    "id": "8e71fd522e56"
   },
   "source": [
    "| | |\n",
    "|-|-|\n",
    "|Author(s) | [Polong Lin](https://github.com/polong-lin) |"
   ]
  },
  {
   "cell_type": "markdown",
   "metadata": {
    "id": "-nLS57E2TO5y"
   },
   "source": [
    "## Overview\n",
    "\n",
    "Text summarization is an NLP task that creates a concise and informative summary of a longer text. LLMs can be used to create summaries of news articles, research papers, technical documents, and other types of text.\n",
    "\n",
    "Summarizing large documents can be challenging. To create summaries, you need to apply summarization strategies to your indexed documents. You have already seen some of these strategies in the previous notebooks. If you haven't completed it, it is recommended to do so to have a basic understanding of how to summarize large documents.\n",
    "\n",
    "In this notebook, you will use LangChain, a framework for developing LLM applications, to apply some summarization strategies. The notebook covers several examples of how to summarize large documents."
   ]
  },
  {
   "cell_type": "markdown",
   "metadata": {
    "id": "iXsvgIuwTPZw"
   },
   "source": [
    "### Objective\n",
    "\n",
    "In this tutorial, you learn how to use LangChain with PaLM API to summarize large documents by working through the following examples:\n",
    "\n",
    "- Stuffing method\n",
    "- MapReduce method\n",
    "- Refine method"
   ]
  },
  {
   "cell_type": "markdown",
   "metadata": {
    "id": "skXAu__iqks_"
   },
   "source": [
    "### Costs\n",
    "\n",
    "This tutorial uses billable components of Google Cloud:\n",
    "- Vertex AI Generative AI Studio\n",
    "\n",
    "Learn about [Vertex AI pricing](https://cloud.google.com/vertex-ai/pricing), and use the [Pricing Calculator](https://cloud.google.com/products/calculator/) to generate a cost estimate based on your projected usage."
   ]
  },
  {
   "cell_type": "markdown",
   "metadata": {
    "id": "mvKl-BtQTRiQ"
   },
   "source": [
    "## Getting Started"
   ]
  },
  {
   "cell_type": "markdown",
   "metadata": {
    "id": "PwFMpIMrTV_4"
   },
   "source": [
    "### Install Vertex AI SDK & Other dependencies"
   ]
  },
  {
   "cell_type": "code",
   "execution_count": null,
   "metadata": {
    "id": "8aP6JVlZkS-m"
   },
   "outputs": [],
   "source": [
    "!sudo apt -y -qq install tesseract-ocr\n",
    "!sudo apt -y -qq install libtesseract-dev\n",
    "!sudo apt-get -y -qq install poppler-utils #required by PyPDF2 for page count and other pdf utilities\n",
    "!sudo apt-get -y -qq install python-dev libxml2-dev libxslt1-dev antiword unrtf poppler-utils pstotext tesseract-ocr flac ffmpeg lame libmad0 libsox-fmt-mp3 sox libjpeg-dev swig"
   ]
  },
  {
   "cell_type": "code",
   "execution_count": null,
   "metadata": {
    "id": "oDmNq5__Trl4"
   },
   "outputs": [],
   "source": [
    "import os\n",
    "\n",
    "if not os.getenv(\"IS_TESTING\"):\n",
    "    USER = \"--user\"\n",
    "else:\n",
    "    USER = \"\"\n",
    "\n",
    "%pip install {USER} --upgrade pytesseract pypdf PyPDF2 textract langchain transformers google-cloud-aiplatform --quiet"
   ]
  },
  {
   "cell_type": "markdown",
   "metadata": {
    "id": "jWwtjLV5TY6H"
   },
   "source": [
    "**Colab only**: Run the following cell to restart the kernel. For Vertex AI Workbench you can restart the terminal using the button on top."
   ]
  },
  {
   "cell_type": "code",
   "execution_count": null,
   "metadata": {
    "id": "XRvKdaPDTznN"
   },
   "outputs": [],
   "source": [
    "# Automatically restart kernel after installs so that your environment can access the new packages\n",
    "import IPython\n",
    "\n",
    "app = IPython.Application.instance()\n",
    "app.kernel.do_shutdown(True)"
   ]
  },
  {
   "cell_type": "markdown",
   "metadata": {
    "id": "opUxT_k5TdgP"
   },
   "source": [
    "### Authenticating your notebook environment\n",
    "\n",
    "- If you are using **Colab** to run this notebook, run the cell below and continue.\n",
    "- If you are using **Vertex AI Workbench**, check out the setup instructions [here](https://github.com/GoogleCloudPlatform/generative-ai/tree/main/setup-env)."
   ]
  },
  {
   "cell_type": "code",
   "execution_count": null,
   "metadata": {
    "id": "vbNgv4q1T2Mi"
   },
   "outputs": [],
   "source": [
    "import sys\n",
    "\n",
    "if \"google.colab\" in sys.modules:\n",
    "    from google.colab import auth\n",
    "\n",
    "    auth.authenticate_user()"
   ]
  },
  {
   "cell_type": "markdown",
   "metadata": {
    "id": "n5fXfvzhTkYN"
   },
   "source": [
    "### Import libraries"
   ]
  },
  {
   "cell_type": "markdown",
   "metadata": {
    "id": "2e3e35049739"
   },
   "source": [
    "**Colab only:** Run the following cell to initialize the Vertex AI SDK. For Vertex AI Workbench, you don't need to run this."
   ]
  },
  {
   "cell_type": "code",
   "execution_count": 1,
   "metadata": {},
   "outputs": [
    {
     "name": "stderr",
     "output_type": "stream",
     "text": [
      "WARNING: Package(s) not found: PyPDFLoader\n"
     ]
    }
   ],
   "source": [
    "!pip show PyPDFLoader"
   ]
  },
  {
   "cell_type": "code",
   "execution_count": 2,
   "metadata": {
    "id": "cRkcfnQMT9vD"
   },
   "outputs": [],
   "source": [
    "from pathlib import Path as p\n",
    "import urllib\n",
    "import warnings\n",
    "\n",
    "from langchain import PromptTemplate\n",
    "from langchain.chains.summarize import load_summarize_chain\n",
    "from langchain.document_loaders import PyMuPDFLoader\n",
    "from langchain.llms import Ollama\n",
    "import pandas as pd\n",
    "\n",
    "warnings.filterwarnings(\"ignore\")"
   ]
  },
  {
   "cell_type": "markdown",
   "metadata": {
    "id": "DAGaTjPVTmhP"
   },
   "source": [
    "### Import models\n",
    "\n",
    "You load the pre-trained text generation model called `text-bison`."
   ]
  },
  {
   "cell_type": "code",
   "execution_count": 3,
   "metadata": {
    "id": "ITUmZiNZcMUW"
   },
   "outputs": [],
   "source": [
    "base_url = \"http://localhost:11434\"\n",
    "model = \"llama3.2:3b\"\n",
    "\n",
    "llm = Ollama(base_url=base_url,\n",
    "                 model=model,\n",
    "                 temperature=0.1,\n",
    "                 num_predict=256\n",
    "                 )"
   ]
  },
  {
   "cell_type": "markdown",
   "metadata": {
    "id": "cKG-ZTJ_02wq"
   },
   "source": [
    "## Summarization with Large Documents"
   ]
  },
  {
   "cell_type": "markdown",
   "metadata": {
    "id": "HZkLDRTjTcfm"
   },
   "source": [
    "### Preparing data files\n",
    "\n",
    "To begin, you will need to download a few files that are required for the summarizing tasks below."
   ]
  },
  {
   "cell_type": "markdown",
   "metadata": {
    "id": "JELITHdBhnf0"
   },
   "source": [
    "### Extract text from the PDF\n",
    "\n",
    "You use an `PdfReader` to extract the text from our scanned documents."
   ]
  },
  {
   "cell_type": "code",
   "execution_count": null,
   "metadata": {
    "id": "x3INtovxreI_"
   },
   "outputs": [
    {
     "name": "stdout",
     "output_type": "stream",
     "text": [
      "Table 1\n",
      "Some deﬁnitions for food-derived products\n",
      "Food supplement (United States\n",
      "Government Ofﬁce, 1994)\n",
      "A product (other than tobacco) in the form of a\n",
      "capsule, powder, softgel or gelcap intended to\n",
      "supplement the diet to enhance health that\n",
      "bears or contains one or more of the\n",
      "following dietary ingredients: a vitamin,\n",
      "mineral, amino acid, or other botanical\n",
      "or dietary substance.\n",
      "United States Food and Drug Administration\n",
      "(FDA). Dietary Supplement Health and Education\n",
      "Act (DSHEA). U.S. Department of Health and\n",
      "Human Services. 1994. United States. Public\n",
      "Law 103–417, available at FDA Website:\n",
      "http://www.fda.gov. [42]\n",
      "Food supplement (EU, 2002)\n",
      "Food product whose purpose is to\n",
      "supplement the normal diet and which\n",
      "consists of a concentrated source of nutrients\n",
      "or other substances with nutritional effects\n",
      "or physiological, single or in combination,\n",
      "marketed in dosed formulations, such as capsules,\n",
      "tablets, tablets or pills, designed to be taken\n",
      "in small individual quantities measured.\n",
      "EU Directive 2002/46/EC [17]\n",
      "Phytochemical (Bloch and\n",
      "Thomson, 1995)\n",
      "Substances found in edible fruit and vegetables\n",
      "that can be ingested daily (in quantities of grams)\n",
      "by humans and that exhibit a potential to\n",
      "favourably modulate human metabolism to\n",
      "prevent cancer and other diseases (isoﬂavones,\n",
      "resveratrol, garlic allyl sulphides, tomato\n",
      "lycopene, onion quercetin etc.).\n",
      "Bloch A, Thomson CA. Position of The\n",
      "American Dietetic Association (phytochemicals\n",
      "and functional foods). J Am Diet Assoc\n",
      "1995; 95: 493–496. [74]\n",
      "Nutraceuticals (De Felice, 1995)\n",
      "Food or part of food that provides medical\n",
      "or health beneﬁts, including the prevention\n",
      "and/or treatment of a disease.\n",
      "DeFelice SL. The nutraceutical revolution:\n",
      "its impact on food industry R&D. Trends\n",
      "Food Sci Technol 1995; 6: 59–61. [2]\n",
      "Nutraceuticals (Zeisel, 1999;\n",
      "DSHEA, 1994)\n",
      "A diet supplement that delivers a\n",
      "concentrated form of a biologically\n",
      "active component of food in a nonfood\n",
      "matrix to enhance health.\n",
      "Zeisel SH. Regulation of “Nutraceuticals”.\n",
      "Science. 1999: 285; 1853–5. Food and\n",
      "Drug Administration, FDA, Dietary\n",
      "Supplement Health and Education\n",
      "Act of 1994 (DSHEA), United States. [75]\n",
      "Nutraceuticals (Brower, 1998)\n",
      "Any substance that is a food or a part\n",
      "of a food and is able to induce medical\n",
      "and health beneﬁts, including the\n",
      "prevention and treatment of disease.\n",
      "Brower V. Nat Biotechnol 1998; 16: 728. [76]\n",
      "Nutraceuticals (Merriam Webster\n",
      "Dictionary, 2015)\n",
      "A foodstuff (as a fortiﬁed food or\n",
      "dietary supplement) that provides\n",
      "health beneﬁts in addition to\n",
      "its basic nutritional.\n",
      "Merriam-Webster Online Dictionary. 2015.\n",
      "Merriam-Webster Inc., P.O. Box 281,\n",
      "Springﬁeld, MA 01102, United States. [77]\n",
      "Nutraceuticals (ENA, 2016)\n",
      "Nutritional products that provide\n",
      "health and medical beneﬁts,\n",
      "including the prevention\n",
      "and treatment of disease.\n",
      "European Nutraceutical Association (ENA).\n",
      "2016. Science behind Nutraceuticals.\n",
      "In E. N. Association (Ed.),\n",
      "(Vol. 2016). 594 Basel, Switzerland. [78]\n",
      "Functional food (Zeisel, 1999)\n",
      "Nutrient consumed as part of a\n",
      "normal diet but delivering one or\n",
      "more active ingredients\n",
      "(that have physiological effects\n",
      "and may enhance health)\n",
      "within the food matrix.\n",
      "Zeisel SH. Regulation of “Nutraceuticals”.\n",
      "Science 1999: 285; 1853–5. Food and\n",
      "Drug Administration, FDA, Dietary\n",
      "Supplement Health and Education\n",
      "Act of 1994 (DSHEA), United States. [79]\n",
      "Functional food (Diplock et al., 1999)\n",
      "Product which is shown in a satisfactory\n",
      "manner that, in addition to adequate\n",
      "nutritional effects, induces beneﬁcial\n",
      "effects on one or more target functions\n",
      "of the organism, signiﬁcantly improving\n",
      "the health status and welfare or\n",
      "reducing the risk of disease.\n",
      "Diplock A, Aggett P, Ashwell M, Bornet F,\n",
      "Fern E, Roberfroid M. The European\n",
      "Commission concerted action on\n",
      "functional foods science in Europe\n",
      "(FUFOSE). Scientiﬁc concepts of\n",
      "functional foods in Europe.\n",
      "Consensus document.\n",
      "Br J Nutr 1999; 81: S1–S27. [80]\n",
      "Functional food (Hardy, 2000)\n",
      "Any food or ingredient that has a positive\n"
     ]
    }
   ],
   "source": [
    "docs = []\n",
    "loader = PyMuPDFLoader(\"docs\\\\health supplements\\\\2. Nutraceuticals research.pdf\")\n",
    "pages = loader.load_and_split()\n",
    "print(pages[3].page_content)"
   ]
  },
  {
   "cell_type": "markdown",
   "metadata": {
    "id": "ZDVwBFSjZ7ws"
   },
   "source": [
    "## Method 1: Stuffing\n",
    "\n",
    "Stuffing is the simplest method to pass data to a language model. It \"stuffs\" text into the prompt as context in a way that all of the relevant information can be processed by the model to get what you want.\n",
    "\n",
    "In LangChain, you can use `StuffDocumentsChain` as part of the `load_summarize_chain` method. What you need to do is setting `stuff` as `chain_type` of your chain."
   ]
  },
  {
   "cell_type": "markdown",
   "metadata": {
    "id": "uhEi-XqKnv2v"
   },
   "source": [
    "### Prompt design with `Stuffing` chain"
   ]
  },
  {
   "cell_type": "code",
   "execution_count": 5,
   "metadata": {
    "id": "B-ljajUen1YO"
   },
   "outputs": [],
   "source": [
    "prompt_template = \"\"\"Write a concise summary of the following text delimited by triple backquotes.\n",
    "              Return your response in bullet points which covers the key points of the text.\n",
    "              ```{text}```\n",
    "              BULLET POINT SUMMARY:\n",
    "  \"\"\"\n",
    "\n",
    "prompt = PromptTemplate(template=prompt_template, input_variables=[\"text\"])"
   ]
  },
  {
   "cell_type": "markdown",
   "metadata": {
    "id": "N5aVrDWkJs3Y"
   },
   "source": [
    "### Retrying\n",
    "Initiate a chain using `stuff` method and process three pages document."
   ]
  },
  {
   "cell_type": "code",
   "execution_count": 6,
   "metadata": {
    "id": "N_hoizIgObe9"
   },
   "outputs": [],
   "source": [
    "stuff_chain = load_summarize_chain(llm, chain_type=\"stuff\", prompt=prompt)"
   ]
  },
  {
   "cell_type": "code",
   "execution_count": 7,
   "metadata": {
    "id": "Q1_zwxwgTnlV"
   },
   "outputs": [],
   "source": [
    "three_pages = pages[:3]"
   ]
  },
  {
   "cell_type": "code",
   "execution_count": 8,
   "metadata": {
    "id": "0jEUfOn7UFI2"
   },
   "outputs": [
    {
     "data": {
      "text/plain": [
       "[Document(metadata={'source': 'docs\\\\health supplements\\\\2. Nutraceuticals research.pdf', 'file_path': 'docs\\\\health supplements\\\\2. Nutraceuticals research.pdf', 'page': 0, 'total_pages': 10, 'format': 'PDF 1.4', 'title': '', 'author': '', 'subject': '', 'keywords': '', 'creator': '', 'producer': 'iLovePDF', 'creationDate': '', 'modDate': 'D:20241021113830Z', 'trapped': ''}, page_content='REVIEW\\nNutraceuticals: opening the debate for a\\nregulatory framework\\nCorrespondence Ettore Novellino, Department of Pharmacy, Via D. Montesano, 49 - 80131 Naples, Italy. Tel.: +39 8167 9934;\\nFax: +39 8167 8107; E-mail: ettore.novellino@unina.it\\nReceived 13 April 2017; Revised 29 November 2017; Accepted 30 November 2017\\nAntonello Santini1\\n, Silvia Miriam Cammarata2, Giacomo Capone2, Angela Ianaro1, Gian Carlo Tenore1,\\nLuca Pani3 and Ettore Novellino1\\n1Department of Pharmacy, University of Napoli Federico II, Via D. Montesano, 49 -80131 Naples, Italy, 2AIFA - Agenzia Italiana del Farmaco, Via del\\nTritone, 181 -00187 Rome, Italy, and 3Department of Psychiatry and Behavioral Sciences, University of Miami, School of Medicine, 33136-1015\\nMiami, FL, USA\\nKeywords claims, health, labels, nutraceuticals, regulation, regulatory\\nCurrently, nutraceuticals do not have a speciﬁc deﬁnition distinct from those of other food-derived categories, such as food\\nsupplements, herbal products, pre- and probiotics, functional foods, and fortiﬁed foods. Many studies have led to an under-\\nstanding of the potential mechanisms of action of pharmaceutically active components contained in food that may improve\\nhealth and reduce the risk of pathological conditions while enhancing overall well-being. Nevertheless, there is a lack of clear\\ninformation and, often, the claimed health beneﬁts may not be properly substantiated by safety and efﬁcacy information or\\nin vitro and in vivo data, which can induce false expectations and miss the target for a product to be effective, as claimed. An of-\\nﬁcially shared and accepted deﬁnition of nutraceuticals is still missing, as nutraceuticals are mostly referred to as pharma-foods, a\\npowerful toolbox to be used beyond the diet but before the drugs to prevent and treat pathological conditions, such as in subjects\\nwho may not yet be eligible for conventional pharmaceutical therapy. Hence, it is of utmost importance to have a proper and\\nunequivocal deﬁnition of nutraceuticals and shared regulations. It also seems wise to assess the safety, mechanism of action and\\nefﬁcacy of nutraceuticals with clinical data. A growing demand exists for nutraceuticals, which seem to reside in the grey area\\nbetween pharmaceuticals and food. Nonetheless, given speciﬁc legislation from different countries, nutraceuticals are\\nexperiencing challenges with safety and health claim substantiation.\\nBritish Journal of Clinical\\nPharmacology\\nBr J Clin Pharmacol (2018) 84 659–672\\n659\\n© 2018 The Authors. British Journal of Clinical Pharmacology\\npublished by John Wiley & Sons Ltd on behalf of British Pharmacological Society.\\nDOI:10.1111/bcp.13496\\nThis is an open access article under the terms of the Creative Commons Attribution-NonCommercial-NoDerivs License, which permits use and distribution in any me-\\ndium, provided the original work is properly cited, the use is non-commercial and no modiﬁcations or adaptations are made.'),\n",
       " Document(metadata={'source': 'docs\\\\health supplements\\\\2. Nutraceuticals research.pdf', 'file_path': 'docs\\\\health supplements\\\\2. Nutraceuticals research.pdf', 'page': 1, 'total_pages': 10, 'format': 'PDF 1.4', 'title': '', 'author': '', 'subject': '', 'keywords': '', 'creator': '', 'producer': 'iLovePDF', 'creationDate': '', 'modDate': 'D:20241021113830Z', 'trapped': ''}, page_content='Introduction\\nThere is a growing overlap between conventional food\\n(including beverages) and food supplements, including\\nenergy bars and teas or liquids. This overlap becomes even\\nwider when we consider functional foods and nutraceuticals.\\nWhat could be considered a functional food under a given set\\nof circumstances may be named a dietary supplement,\\nmedical food, food for special dietary use or nutraceutical\\nunder different circumstances, depending on its ingredients\\n(active components) and the claims reported on its label [1].\\nWhile the deﬁnition of a food supplement is quite clear\\nand understandable (see Table 1), the deﬁnition of a\\nnutraceutical is still in the grey area between food, food\\nsupplements and pharmaceuticals. The term nutraceutical, a\\nsyncretic neologism of the words nutrient and pharmaceutical,\\nwas originally coined by Stephen DeFelice, who deﬁned\\nnutraceuticals as “food or part of a food that provides medical\\nor health beneﬁts, including the prevention and/or treat-\\nment of a disease” [2]. This concept has been proposed as\\na modern approach to food science, and the area of possi-\\nble use has been deﬁned as beyond the diet, but before the\\ndrugs [3, 4]. Notwithstanding this concept, the deﬁnition\\nof nutraceuticals and a legitimate assessment of their\\npotential in medicine are still contradictory and far from\\nbeing shared and accepted worldwide [5].\\nThe nutraceutical deﬁnition often overlaps with the\\naccepted deﬁnition of food supplements [6, 7], and the\\nrationale behind the use of these products is becoming\\nmore and more important in their distinction.\\nNutraceuticals are continuously developed and have\\nquickly spread worldwide [8]. Existing contradictory infor-\\nmation in the ﬁeld is generating confusion about the possible\\neffective use of these products, which are available on the\\nmarket and in pharmacies. Food supplements, as per their\\nmicronutrient content, can be used to improve the health\\nof individuals in need. In general, many of the health claims\\nthat are currently associated with food supplements, pro- and\\nprebiotics, herbal products, and functional foods may not\\nproperly be substantiated by scientiﬁc data on their safety,\\nefﬁcacy and effect on health and/or pathological conditions.\\nThe claims are mainly unsubstantiated due to a lack of\\nstudies on possible mechanisms of action and a lack of\\nin vivo research conﬁrming the claimed beneﬁcial health\\neffects on speciﬁc pathological conditions. Another key\\naspect is related to the data reported in the literature, which\\nmainly comes from in vitro studies focused on single food\\nconstituents (micronutrients); these studies are based on the\\nassumption that micronutrients can be considered safe (or\\ngenerally recognized as so) because they are derived from\\ncommonly used food or food components [8, 9]. Safety is of\\nutmost importance, as there is also the possibility of\\ncontaminants of inorganic and organic origins in these\\nproducts [10, 11]. Moreover, the ingredients themselves may\\ncause health problems, and proper information on possible\\nunwanted side effects should be provided on the label. From\\nour point of view, it is imperative to have more information\\non safety and efﬁcacy based on clinical studies rather than\\nonly in vitro studies, and it is also important to reach a better\\nunderstanding of the mechanism of action and bioavailabil-\\nity of these products. The ﬁrst step in assessing the action of\\nnutraceuticals is to distinguish them from the other food-\\nderived products, particularly food supplements, which are\\nnot always included in daily dietary habits in the presence of\\na speciﬁc need [12].\\nThis exercise may require: (i) appropriate target identiﬁca-\\ntion; (ii) safety assessment; (iii) a clear understanding of the\\nmechanism of action; (iv) efﬁcacy assessment substantiated\\nby clinical studies; (v) an evaluation of possible unwanted\\nside effects; and (vi) an evaluation of possible interactions\\nwith other products (e.g. food, food supplements and drugs).'),\n",
       " Document(metadata={'source': 'docs\\\\health supplements\\\\2. Nutraceuticals research.pdf', 'file_path': 'docs\\\\health supplements\\\\2. Nutraceuticals research.pdf', 'page': 1, 'total_pages': 10, 'format': 'PDF 1.4', 'title': '', 'author': '', 'subject': '', 'keywords': '', 'creator': '', 'producer': 'iLovePDF', 'creationDate': '', 'modDate': 'D:20241021113830Z', 'trapped': ''}, page_content='by clinical studies; (v) an evaluation of possible unwanted\\nside effects; and (vi) an evaluation of possible interactions\\nwith other products (e.g. food, food supplements and drugs).\\nWe think that a different approach for nutraceutical concept\\nassessment, use and deﬁnition is needed, and the existing\\nassessment methodology for pharmaceutical products may\\nbe considered as a starting point.\\nResolving\\nthe\\ndiscrepancies\\nbetween\\nthe\\ndifferent\\naccepted deﬁnitions of nutraceuticals and their regulatory\\naspects will be a signiﬁcant challenge. An outline of the lack\\nof shared regulations regarding nutraceuticals as pharma-\\nfoods is needed [13]; nutraceuticals are considered to be in\\nthe grey area after diet, but before drugs. Therefore, it is\\nimportant to clearly identify their speciﬁcity in view of their\\npossible use and utility in the pharmaceutical arena.\\nState of the art and future trends\\nThe ﬁrst step in food regulation in Europe was established in\\n1997 with the Green Paper on Food Law, and it was followed\\nby the White Paper on Food Safety in 2000, which outlined\\nthe need for new and improved legislation in the ﬁeld [14].\\nThese papers led to the General Food Law Regulation [Regula-\\ntion (EC) No. 178/2002 of the European Parliament and of\\nthe Council 2002], which established the principle and\\nforesaw the creation of an independent organization called\\nthe European Food Safety Authority (EFSA) with the speciﬁc\\ntask\\nof\\ngiving\\nscientiﬁc\\nadvice\\nbased\\nupon\\nscientiﬁc\\nassessment of the beneﬁcial health effects and associated risks\\nrelated to food intake [15].\\nThe\\nEFSA mission\\nalso includes\\nfood\\nsupplements,\\nwhereas the responsibility for risk management and commu-\\nnication was taken on by the European Commission and\\nParliament. The risk assessment and risk evaluation can also\\nbe included as a part of the EFSA mandate if it follows a\\nspeciﬁc request made by the European Commission and\\nParliament from a European Member State or stakeholder.\\nThis step should then be followed by speciﬁc action from\\nlocal national authorities, who take the suggestions on board\\nand propose appropriate legislation and regulation in the\\nﬁeld. The mission of the EFSA is to “provide the basis for the\\nassurance of a high level of protection of human health and\\nconsumer interest in relation to food, considering the\\ndiversity\\nin\\nthe\\nsupply\\nof\\nfood,\\nincluding\\ntraditional\\nproducts, while ensuring the effective functioning of the\\ninternal market. It establishes common principles and\\nresponsibilities, the means to provide a strong science base,\\nefﬁcient organizational arrangements and procedures to un-\\nderpin decision-making in matters of food and feed safety.”\\nThis statement applies to all foodstuffs, and these general\\nprinciples also cover foods with added functional properties\\n(e.g. functional foods, food supplements, herbal products,\\nA. Santini et al.\\n660\\nBr J Clin Pharmacol (2018) 84 659–672')]"
      ]
     },
     "execution_count": 8,
     "metadata": {},
     "output_type": "execute_result"
    }
   ],
   "source": [
    "three_pages"
   ]
  },
  {
   "cell_type": "code",
   "execution_count": 9,
   "metadata": {
    "id": "QnXUwWxkrLu4"
   },
   "outputs": [
    {
     "name": "stdout",
     "output_type": "stream",
     "text": [
      "Here is a bullet point summary of the article:\n",
      "\n",
      "**Introduction**\n",
      "\n",
      "* The concept of nutraceuticals is not well-defined and lacks regulation\n",
      "* There is a need for a clear understanding of nutraceuticals, their safety, efficacy, and mechanism of action\n",
      "\n",
      "**Challenges in assessing nutraceuticals**\n",
      "\n",
      "* Lack of shared regulations regarding nutraceuticals as pharma-foods\n",
      "* Difficulty in distinguishing nutraceuticals from other food-derived products\n",
      "* Need for more information on safety and efficacy based on clinical studies\n",
      "\n",
      "**Current regulatory framework**\n",
      "\n",
      "* The European Food Safety Authority (EFSA) is responsible for providing scientific advice on the beneficial health effects and associated risks of food intake\n",
      "* The EFSA mission includes risk assessment, risk evaluation, and communication with stakeholders\n",
      "* National authorities propose legislation and regulation in response to EFSA's recommendations\n",
      "\n",
      "**Future directions**\n",
      "\n",
      "* A different approach for nutraceutical concept assessment, use, and definition is needed\n",
      "* The existing assessment methodology for pharmaceutical products may be considered as a starting point\n",
      "* Resolving the discrepancies between different accepted definitions of nutraceuticals and their regulatory aspects will be a significant challenge.\n"
     ]
    }
   ],
   "source": [
    "try:\n",
    "    print(stuff_chain.run(three_pages))\n",
    "except Exception as e:\n",
    "    print(\n",
    "        \"The code failed since it won't be able to run inference on such a huge context and throws this exception: \",\n",
    "        e,\n",
    "    )"
   ]
  },
  {
   "cell_type": "markdown",
   "metadata": {
    "id": "xKb_fBEedZqu"
   },
   "source": [
    "As you can see, with the `stuff` method, you can summarize the entire document content with a single API call passing all data at once.\n",
    "\n",
    "Depending on the context length of LLM, the `stuff` method would not work as it result in a prompt larger than the context length."
   ]
  },
  {
   "cell_type": "code",
   "execution_count": 10,
   "metadata": {
    "id": "RtgemmBzkddX"
   },
   "outputs": [
    {
     "name": "stdout",
     "output_type": "stream",
     "text": [
      "Here is a bullet point summary of the text:\n",
      "\n",
      "**Citrinin and Red Yeast Rice (RYR)**\n",
      "\n",
      "* Citrinin is a toxic metabolite found in RYR supplements\n",
      "* The maximum acceptable level of citrinin was set at 2000 μg kg-1 by the German Federal Institute for Drugs and Medical Devices\n",
      "* Analysis of citrinin in RYR using an immuno-affinity column enabled accurate detection with high sensitivity (LOQ: 10 μg kg-1, LOD: 3 μg kg-1)\n",
      "\n",
      "**Regulatory Issues**\n",
      "\n",
      "* The European Food Safety Authority (EFSA) has set a limit of monacolin K from RYR at 10 mg day-1 for the maintenance of normal blood levels\n",
      "* However, this value is considered acceptable in many European countries despite potential health risks associated with high doses\n",
      "* The US FDA issued a warning on RYR products in 2007 due to concerns over monacolin K content and potential health risks\n",
      "\n",
      "**Safety Concerns**\n",
      "\n",
      "* High values of monacolin K in RYR products may be considered with caution due to possible variability in content\n",
      "* Dose inconsistency and safety issues suggest caution against the use of RYR\n"
     ]
    }
   ],
   "source": [
    "try:\n",
    "    print(stuff_chain.run(pages))\n",
    "except Exception as e:\n",
    "    print(\n",
    "        \"The code failed since it won't be able to run inference on such a huge context and throws this exception: \",\n",
    "        e,\n",
    "    )"
   ]
  },
  {
   "cell_type": "markdown",
   "metadata": {
    "id": "Vtp21WX3T7d_"
   },
   "source": [
    "As expected, the code returns the expection message."
   ]
  },
  {
   "cell_type": "markdown",
   "metadata": {
    "id": "hqZrKM32h-o2"
   },
   "source": [
    "### Considerations\n",
    "\n",
    "The `stuffing` method is a way to summarize text by feeding the entire document to a large language model (LLM) in a single call. This method has both pros and cons.\n",
    "\n",
    "The stuffing method only requires a single call to the LLM, which can be faster than other methods that require multiple calls. When summarizing text, the LLM has access to all the data at once, which can result in a better summary.\n",
    "\n",
    "But, LLMs have a context length, which is the maximum number of tokens that can be processed in a single call. If the document is longer than the context length, the stuffing method will not work. Also the stuffing method is not suitable for summarizing large documents, as it can be slow and may not produce a good summary.\n",
    "\n",
    "Let's explore other approaches to help deal with having longer text than context length limit of LLMs."
   ]
  },
  {
   "cell_type": "markdown",
   "metadata": {
    "id": "RM3V1JARZ9-k"
   },
   "source": [
    "## Method 2: MapReduce\n",
    "\n",
    "The `MapReduce` method implements a multi-stage summarization. It is a technique for summarizing large pieces of text by first summarizing smaller chunks of text and then combining those summaries into a single summary.\n",
    "\n",
    "In LangChain, you can use `MapReduceDocumentsChain` as part of the `load_summarize_chain` method. What you need to do is setting `map_reduce` as `chain_type` of your chain."
   ]
  },
  {
   "cell_type": "markdown",
   "metadata": {
    "id": "lagLXEamlPY2"
   },
   "source": [
    "### Prompt design with `MapReduce` chain\n",
    "\n",
    "In our example, you have a 32-page document that you need to summarize.\n",
    "\n",
    "With LangChain, the `map_reduce` chain breaks the document down into 1024 token chunks max. Then it runs the initial prompt you define on each chunk to generate a summary of that chunk. In the example below, you use the following first stage or map prompt.\n",
    "\n",
    "```Write a concise summary of the following text delimited by triple backquotes. Return your response in bullet points which covers the key points of the text.\n",
    "'''{text}'''. BULLET POINT SUMMARY:```\n",
    "\n",
    "Once summaries for all of the chunks are generated, it runs a different prompt to combine those summaries into a single summary. In the example below, you use the following second stage or combine prompt.\n",
    "\n",
    "```Write a summary of the entire document that includes the main points from all of the individual summaries.```"
   ]
  },
  {
   "cell_type": "code",
   "execution_count": 11,
   "metadata": {
    "id": "R6oHEtdSmsTn"
   },
   "outputs": [],
   "source": [
    "map_prompt_template = \"\"\"\n",
    "                      Write a summary of this chunk of text that includes the main points and any important details.\n",
    "                      {text}\n",
    "                      \"\"\"\n",
    "\n",
    "map_prompt = PromptTemplate(template=map_prompt_template, input_variables=[\"text\"])\n",
    "\n",
    "combine_prompt_template = \"\"\"\n",
    "                      Write a concise summary of the following text delimited by triple backquotes.\n",
    "                      Return your response in bullet points which covers the key points of the text.\n",
    "                      ```{text}```\n",
    "                      BULLET POINT SUMMARY:\n",
    "                      \"\"\"\n",
    "\n",
    "combine_prompt = PromptTemplate(\n",
    "    template=combine_prompt_template, input_variables=[\"text\"]\n",
    ")"
   ]
  },
  {
   "cell_type": "markdown",
   "metadata": {
    "id": "JXoz0uLDMoWD"
   },
   "source": [
    "### Generate summaries using MapReduce method\n",
    "\n",
    "After defining prompts, you initialize the associated `map_reduce_chain`."
   ]
  },
  {
   "cell_type": "code",
   "execution_count": 12,
   "metadata": {
    "id": "VRGJcBZeVdEa"
   },
   "outputs": [],
   "source": [
    "map_reduce_chain = load_summarize_chain(\n",
    "    llm,\n",
    "    chain_type=\"map_reduce\",\n",
    "    map_prompt=map_prompt,\n",
    "    combine_prompt=combine_prompt,\n",
    "    return_intermediate_steps=True,\n",
    ")"
   ]
  },
  {
   "cell_type": "markdown",
   "metadata": {
    "id": "-6fekDDr0hrJ"
   },
   "source": [
    "Then, you generate summaries using the chain. Notice that LangChain use a tokenizer (from transformer library) with 1024 token limit by default."
   ]
  },
  {
   "cell_type": "code",
   "execution_count": 14,
   "metadata": {
    "id": "uSC6w2TBV35q"
   },
   "outputs": [
    {
     "name": "stderr",
     "output_type": "stream",
     "text": [
      "None of PyTorch, TensorFlow >= 2.0, or Flax have been found. Models won't be available and only tokenizers, configuration and file/data utilities can be used.\n",
      "Token indices sequence length is longer than the specified maximum sequence length for this model (4740 > 1024). Running this sequence through the model will result in indexing errors\n"
     ]
    }
   ],
   "source": [
    "map_reduce_outputs = map_reduce_chain({\"input_documents\": pages})"
   ]
  },
  {
   "cell_type": "markdown",
   "metadata": {
    "id": "meH2ELuz2H46"
   },
   "source": [
    "After summaries are generated, you can validate them by organize input documents and associated output in a Pandas DataFrame."
   ]
  },
  {
   "cell_type": "code",
   "execution_count": 15,
   "metadata": {
    "id": "r6FRSR7xRLew"
   },
   "outputs": [],
   "source": [
    "final_mp_data = []\n",
    "for doc, out in zip(\n",
    "    map_reduce_outputs[\"input_documents\"], map_reduce_outputs[\"intermediate_steps\"]\n",
    "):\n",
    "    output = {}\n",
    "    output[\"file_name\"] = p(doc.metadata[\"source\"]).stem\n",
    "    output[\"file_type\"] = p(doc.metadata[\"source\"]).suffix\n",
    "    output[\"page_number\"] = doc.metadata[\"page\"]\n",
    "    output[\"chunks\"] = doc.page_content\n",
    "    output[\"concise_summary\"] = out\n",
    "    final_mp_data.append(output)"
   ]
  },
  {
   "cell_type": "code",
   "execution_count": 16,
   "metadata": {
    "id": "dA9cnh8YaNbF"
   },
   "outputs": [
    {
     "data": {
      "text/html": [
       "<div>\n",
       "<style scoped>\n",
       "    .dataframe tbody tr th:only-of-type {\n",
       "        vertical-align: middle;\n",
       "    }\n",
       "\n",
       "    .dataframe tbody tr th {\n",
       "        vertical-align: top;\n",
       "    }\n",
       "\n",
       "    .dataframe thead th {\n",
       "        text-align: right;\n",
       "    }\n",
       "</style>\n",
       "<table border=\"1\" class=\"dataframe\">\n",
       "  <thead>\n",
       "    <tr style=\"text-align: right;\">\n",
       "      <th></th>\n",
       "      <th>file_name</th>\n",
       "      <th>file_type</th>\n",
       "      <th>page_number</th>\n",
       "      <th>chunks</th>\n",
       "      <th>concise_summary</th>\n",
       "    </tr>\n",
       "  </thead>\n",
       "  <tbody>\n",
       "    <tr>\n",
       "      <th>0</th>\n",
       "      <td>2. Nutraceuticals research</td>\n",
       "      <td>.pdf</td>\n",
       "      <td>0</td>\n",
       "      <td>REVIEW\\nNutraceuticals: opening the debate for...</td>\n",
       "      <td>Here is a summary of the text with the main po...</td>\n",
       "    </tr>\n",
       "    <tr>\n",
       "      <th>1</th>\n",
       "      <td>2. Nutraceuticals research</td>\n",
       "      <td>.pdf</td>\n",
       "      <td>1</td>\n",
       "      <td>Introduction\\nThere is a growing overlap betwe...</td>\n",
       "      <td>Here is a summary of the text with the main po...</td>\n",
       "    </tr>\n",
       "    <tr>\n",
       "      <th>2</th>\n",
       "      <td>2. Nutraceuticals research</td>\n",
       "      <td>.pdf</td>\n",
       "      <td>1</td>\n",
       "      <td>by clinical studies; (v) an evaluation of poss...</td>\n",
       "      <td>Here is a summary of the text, including the m...</td>\n",
       "    </tr>\n",
       "    <tr>\n",
       "      <th>3</th>\n",
       "      <td>2. Nutraceuticals research</td>\n",
       "      <td>.pdf</td>\n",
       "      <td>2</td>\n",
       "      <td>Table 1\\nSome deﬁnitions for food-derived prod...</td>\n",
       "      <td>Here is a summary of the text, including the m...</td>\n",
       "    </tr>\n",
       "    <tr>\n",
       "      <th>4</th>\n",
       "      <td>2. Nutraceuticals research</td>\n",
       "      <td>.pdf</td>\n",
       "      <td>2</td>\n",
       "      <td>(FUFOSE). Scientiﬁc concepts of\\nfunctional fo...</td>\n",
       "      <td>Here is a summary of the provided text:\\n\\nThe...</td>\n",
       "    </tr>\n",
       "  </tbody>\n",
       "</table>\n",
       "</div>"
      ],
      "text/plain": [
       "                    file_name file_type  page_number  \\\n",
       "0  2. Nutraceuticals research      .pdf            0   \n",
       "1  2. Nutraceuticals research      .pdf            1   \n",
       "2  2. Nutraceuticals research      .pdf            1   \n",
       "3  2. Nutraceuticals research      .pdf            2   \n",
       "4  2. Nutraceuticals research      .pdf            2   \n",
       "\n",
       "                                              chunks  \\\n",
       "0  REVIEW\\nNutraceuticals: opening the debate for...   \n",
       "1  Introduction\\nThere is a growing overlap betwe...   \n",
       "2  by clinical studies; (v) an evaluation of poss...   \n",
       "3  Table 1\\nSome deﬁnitions for food-derived prod...   \n",
       "4  (FUFOSE). Scientiﬁc concepts of\\nfunctional fo...   \n",
       "\n",
       "                                     concise_summary  \n",
       "0  Here is a summary of the text with the main po...  \n",
       "1  Here is a summary of the text with the main po...  \n",
       "2  Here is a summary of the text, including the m...  \n",
       "3  Here is a summary of the text, including the m...  \n",
       "4  Here is a summary of the provided text:\\n\\nThe...  "
      ]
     },
     "execution_count": 16,
     "metadata": {},
     "output_type": "execute_result"
    }
   ],
   "source": [
    "pdf_mp_summary = pd.DataFrame.from_dict(final_mp_data)\n",
    "pdf_mp_summary = pdf_mp_summary.sort_values(\n",
    "    by=[\"file_name\", \"page_number\"]\n",
    ")  # sorting the dataframe by filename and page_number\n",
    "pdf_mp_summary.reset_index(inplace=True, drop=True)\n",
    "pdf_mp_summary.head()"
   ]
  },
  {
   "cell_type": "code",
   "execution_count": 17,
   "metadata": {
    "id": "yA0eM1K3cvH2"
   },
   "outputs": [
    {
     "name": "stdout",
     "output_type": "stream",
     "text": [
      "[Context]\n",
      "Table 1\n",
      "Some deﬁnitions for food-derived products\n",
      "Food supplement (United States\n",
      "Government Ofﬁce, 1994)\n",
      "A product (other than tobacco) in the form of a\n",
      "capsule, powder, softgel or gelcap intended to\n",
      "supplement the diet to enhance health that\n",
      "bears or contains one or more of the\n",
      "following dietary ingredients: a vitamin,\n",
      "mineral, amino acid, or other botanical\n",
      "or dietary substance.\n",
      "United States Food and Drug Administration\n",
      "(FDA). Dietary Supplement Health and Education\n",
      "Act (DSHEA). U.S. Department of Health and\n",
      "Human Services. 1994. United States. Public\n",
      "Law 103–417, available at FDA Website:\n",
      "http://www.fda.gov. [42]\n",
      "Food supplement (EU, 2002)\n",
      "Food product whose purpose is to\n",
      "supplement the normal diet and which\n",
      "consists of a concentrated source of nutrients\n",
      "or other substances with nutritional effects\n",
      "or physiological, single or in combination,\n",
      "marketed in dosed formulations, such as capsules,\n",
      "tablets, tablets or pills, designed to be taken\n",
      "in small individual quantities measured.\n",
      "EU Directive 2002/46/EC [17]\n",
      "Phytochemical (Bloch and\n",
      "Thomson, 1995)\n",
      "Substances found in edible fruit and vegetables\n",
      "that can be ingested daily (in quantities of grams)\n",
      "by humans and that exhibit a potential to\n",
      "favourably modulate human metabolism to\n",
      "prevent cancer and other diseases (isoﬂavones,\n",
      "resveratrol, garlic allyl sulphides, tomato\n",
      "lycopene, onion quercetin etc.).\n",
      "Bloch A, Thomson CA. Position of The\n",
      "American Dietetic Association (phytochemicals\n",
      "and functional foods). J Am Diet Assoc\n",
      "1995; 95: 493–496. [74]\n",
      "Nutraceuticals (De Felice, 1995)\n",
      "Food or part of food that provides medical\n",
      "or health beneﬁts, including the prevention\n",
      "and/or treatment of a disease.\n",
      "DeFelice SL. The nutraceutical revolution:\n",
      "its impact on food industry R&D. Trends\n",
      "Food Sci Technol 1995; 6: 59–61. [2]\n",
      "Nutraceuticals (Zeisel, 1999;\n",
      "DSHEA, 1994)\n",
      "A diet supplement that delivers a\n",
      "concentrated form of a biologically\n",
      "active component of food in a nonfood\n",
      "matrix to enhance health.\n",
      "Zeisel SH. Regulation of “Nutraceuticals”.\n",
      "Science. 1999: 285; 1853–5. Food and\n",
      "Drug Administration, FDA, Dietary\n",
      "Supplement Health and Education\n",
      "Act of 1994 (DSHEA), United States. [75]\n",
      "Nutraceuticals (Brower, 1998)\n",
      "Any substance that is a food or a part\n",
      "of a food and is able to induce medical\n",
      "and health beneﬁts, including the\n",
      "prevention and treatment of disease.\n",
      "Brower V. Nat Biotechnol 1998; 16: 728. [76]\n",
      "Nutraceuticals (Merriam Webster\n",
      "Dictionary, 2015)\n",
      "A foodstuff (as a fortiﬁed food or\n",
      "dietary supplement) that provides\n",
      "health beneﬁts in addition to\n",
      "its basic nutritional.\n",
      "Merriam-Webster Online Dictionary. 2015.\n",
      "Merriam-Webster Inc., P.O. Box 281,\n",
      "Springﬁeld, MA 01102, United States. [77]\n",
      "Nutraceuticals (ENA, 2016)\n",
      "Nutritional products that provide\n",
      "health and medical beneﬁts,\n",
      "including the prevention\n",
      "and treatment of disease.\n",
      "European Nutraceutical Association (ENA).\n",
      "2016. Science behind Nutraceuticals.\n",
      "In E. N. Association (Ed.),\n",
      "(Vol. 2016). 594 Basel, Switzerland. [78]\n",
      "Functional food (Zeisel, 1999)\n",
      "Nutrient consumed as part of a\n",
      "normal diet but delivering one or\n",
      "more active ingredients\n",
      "(that have physiological effects\n",
      "and may enhance health)\n",
      "within the food matrix.\n",
      "Zeisel SH. Regulation of “Nutraceuticals”.\n",
      "Science 1999: 285; 1853–5. Food and\n",
      "Drug Administration, FDA, Dietary\n",
      "Supplement Health and Education\n",
      "Act of 1994 (DSHEA), United States. [79]\n",
      "Functional food (Diplock et al., 1999)\n",
      "Product which is shown in a satisfactory\n",
      "manner that, in addition to adequate\n",
      "nutritional effects, induces beneﬁcial\n",
      "effects on one or more target functions\n",
      "of the organism, signiﬁcantly improving\n",
      "the health status and welfare or\n",
      "reducing the risk of disease.\n",
      "Diplock A, Aggett P, Ashwell M, Bornet F,\n",
      "Fern E, Roberfroid M. The European\n",
      "Commission concerted action on\n",
      "functional foods science in Europe\n",
      "(FUFOSE). Scientiﬁc concepts of\n",
      "functional foods in Europe.\n",
      "Consensus document.\n",
      "Br J Nutr 1999; 81: S1–S27. [80]\n",
      "Functional food (Hardy, 2000)\n",
      "Any food or ingredient that has a positive\n",
      "\n",
      "\n",
      " [Simple Summary]\n",
      "Here is a summary of the text, including the main points and important details:\n",
      "\n",
      "The text defines various terms related to food-derived products, including supplements, phytochemicals, nutraceuticals, functional foods, and others. The main definitions are as follows:\n",
      "\n",
      "1. **Food supplement**: A product that enhances health by providing dietary ingredients such as vitamins, minerals, amino acids, or botanical substances.\n",
      "2. **Phytochemical**: Substances found in edible fruits and vegetables that can modulate human metabolism to prevent diseases.\n",
      "3. **Nutraceuticals**: Food or part of food that provides medical or health benefits, including the prevention and/or treatment of disease.\n",
      "4. **Functional foods**: Foods that deliver one or more active ingredients with physiological effects, which may enhance health when consumed as part of a normal diet.\n",
      "\n",
      "Important details include:\n",
      "\n",
      "* The definitions are provided by various organizations, such as the US FDA, EU Directive 2002/46/EC, and Merriam-Webster Dictionary.\n",
      "* Phytochemicals and nutraceuticals are often associated with cancer prevention and disease treatment.\n",
      "* Functional foods are defined in different ways, but generally involve delivering active ingredients that enhance health or reduce disease risk.\n",
      "* The European Commission's concerted action on\n",
      "\n",
      "\n",
      " [Page number]\n",
      "2\n",
      "\n",
      "\n",
      " [Source: file_name]\n",
      "2. Nutraceuticals research\n"
     ]
    }
   ],
   "source": [
    "index = 3\n",
    "print(\"[Context]\")\n",
    "print(pdf_mp_summary[\"chunks\"].iloc[index])\n",
    "print(\"\\n\\n [Simple Summary]\")\n",
    "print(pdf_mp_summary[\"concise_summary\"].iloc[index])\n",
    "print(\"\\n\\n [Page number]\")\n",
    "print(pdf_mp_summary[\"page_number\"].iloc[index])\n",
    "print(\"\\n\\n [Source: file_name]\")\n",
    "print(pdf_mp_summary[\"file_name\"].iloc[index])"
   ]
  },
  {
   "cell_type": "markdown",
   "metadata": {
    "id": "ROrE1-HKpg7y"
   },
   "source": [
    "### Considerations\n",
    "\n",
    "With `MapReduce` method, the model is able to summarize a large paper by overcoming the context limit of `Stuffing` method with parallel processing.\n",
    "\n",
    "However, the `MapReduce` requires multiple calls to the model and potentially losing context between pages.\n",
    "\n",
    "To deal this challenge, you can try another method to summarize multiple pages at a time."
   ]
  },
  {
   "cell_type": "markdown",
   "metadata": {
    "id": "lxdB-5PqgCf-"
   },
   "source": [
    "## Method 3: Refine\n",
    "\n",
    "The Refine method is an alternative method to deal with large document summarization. It works by first running an initial prompt on a small chunk of data, generating some output. Then, for each subsequent document, the output from the previous document is passed in along with the new document, and the LLM is asked to refine the output based on the new document.\n",
    "\n",
    "In LangChain, you can use `RefineDocumentsChain` as part of the load_summarize_chain method. What you need to do is setting `refine` as `chain_type` of your chain."
   ]
  },
  {
   "cell_type": "markdown",
   "metadata": {
    "id": "pjj2UZilDF4Q"
   },
   "source": [
    "### Prompt design with `Refine` chain\n",
    "\n",
    "With LangChain, the `refine` chain requires two prompts.\n",
    "\n",
    "The question prompt to generate the output for subsequent task. The refine prompt to refine the output based on the generated content.\n",
    "\n",
    "In this example, the question prompt is:\n",
    "\n",
    "```\n",
    "Please provide a summary of the following text.\n",
    "TEXT: {text}\n",
    "SUMMARY:\n",
    "```\n",
    "\n",
    "and the refine prompt is:\n",
    "\n",
    "```\n",
    "Write a concise summary of the following text delimited by triple backquotes.\n",
    "Return your response in bullet points which covers the key points of the text.\n",
    "```{text}```\n",
    "BULLET POINT SUMMARY:\n",
    "```\n"
   ]
  },
  {
   "cell_type": "code",
   "execution_count": 18,
   "metadata": {
    "id": "XiZX45Z5VTwS"
   },
   "outputs": [],
   "source": [
    "question_prompt_template = \"\"\"\n",
    "                  Please provide a summary of the following text.\n",
    "                  TEXT: {text}\n",
    "                  SUMMARY:\n",
    "                  \"\"\"\n",
    "\n",
    "question_prompt = PromptTemplate(\n",
    "    template=question_prompt_template, input_variables=[\"text\"]\n",
    ")\n",
    "\n",
    "refine_prompt_template = \"\"\"\n",
    "              Write a concise summary of the following text delimited by triple backquotes.\n",
    "              Return your response in bullet points which covers the key points of the text.\n",
    "              ```{text}```\n",
    "              BULLET POINT SUMMARY:\n",
    "              \"\"\"\n",
    "\n",
    "refine_prompt = PromptTemplate(\n",
    "    template=refine_prompt_template, input_variables=[\"text\"]\n",
    ")"
   ]
  },
  {
   "cell_type": "markdown",
   "metadata": {
    "id": "-USlaSPbM0rs"
   },
   "source": [
    "### Generate summaries using Refine method\n",
    "\n",
    "After you define prompts, you initiate a summarization chain using `refine` chain type."
   ]
  },
  {
   "cell_type": "code",
   "execution_count": 19,
   "metadata": {
    "id": "_-Sv3HO1U3hi"
   },
   "outputs": [],
   "source": [
    "refine_chain = load_summarize_chain(\n",
    "    llm,\n",
    "    chain_type=\"refine\",\n",
    "    question_prompt=question_prompt,\n",
    "    refine_prompt=refine_prompt,\n",
    "    return_intermediate_steps=True,\n",
    ")"
   ]
  },
  {
   "cell_type": "markdown",
   "metadata": {
    "id": "f9EZCDK-MQJH"
   },
   "source": [
    "Then, you use the summarization chain to summarize document using Refine method."
   ]
  },
  {
   "cell_type": "code",
   "execution_count": 20,
   "metadata": {
    "id": "KHwwab7vXNa1"
   },
   "outputs": [],
   "source": [
    "refine_outputs = refine_chain({\"input_documents\": pages})"
   ]
  },
  {
   "cell_type": "markdown",
   "metadata": {
    "id": "eUqpki5EMYEr"
   },
   "source": [
    "Below you can see the resulting summaries."
   ]
  },
  {
   "cell_type": "code",
   "execution_count": 21,
   "metadata": {
    "id": "7j5cUGStZ5WF"
   },
   "outputs": [],
   "source": [
    "final_refine_data = []\n",
    "for doc, out in zip(\n",
    "    refine_outputs[\"input_documents\"], refine_outputs[\"intermediate_steps\"]\n",
    "):\n",
    "    output = {}\n",
    "    output[\"file_name\"] = p(doc.metadata[\"source\"]).stem\n",
    "    output[\"file_type\"] = p(doc.metadata[\"source\"]).suffix\n",
    "    output[\"page_number\"] = doc.metadata[\"page\"]\n",
    "    output[\"chunks\"] = doc.page_content\n",
    "    output[\"concise_summary\"] = out\n",
    "    final_refine_data.append(output)"
   ]
  },
  {
   "cell_type": "code",
   "execution_count": 22,
   "metadata": {
    "id": "N_7Mm9cEmGOV"
   },
   "outputs": [
    {
     "data": {
      "text/html": [
       "<div>\n",
       "<style scoped>\n",
       "    .dataframe tbody tr th:only-of-type {\n",
       "        vertical-align: middle;\n",
       "    }\n",
       "\n",
       "    .dataframe tbody tr th {\n",
       "        vertical-align: top;\n",
       "    }\n",
       "\n",
       "    .dataframe thead th {\n",
       "        text-align: right;\n",
       "    }\n",
       "</style>\n",
       "<table border=\"1\" class=\"dataframe\">\n",
       "  <thead>\n",
       "    <tr style=\"text-align: right;\">\n",
       "      <th></th>\n",
       "      <th>file_name</th>\n",
       "      <th>file_type</th>\n",
       "      <th>page_number</th>\n",
       "      <th>chunks</th>\n",
       "      <th>concise_summary</th>\n",
       "    </tr>\n",
       "  </thead>\n",
       "  <tbody>\n",
       "    <tr>\n",
       "      <th>0</th>\n",
       "      <td>2. Nutraceuticals research</td>\n",
       "      <td>.pdf</td>\n",
       "      <td>0</td>\n",
       "      <td>REVIEW\\nNutraceuticals: opening the debate for...</td>\n",
       "      <td>Here is a summary of the text with the main po...</td>\n",
       "    </tr>\n",
       "    <tr>\n",
       "      <th>1</th>\n",
       "      <td>2. Nutraceuticals research</td>\n",
       "      <td>.pdf</td>\n",
       "      <td>1</td>\n",
       "      <td>Introduction\\nThere is a growing overlap betwe...</td>\n",
       "      <td>Here is a summary of the text with the main po...</td>\n",
       "    </tr>\n",
       "    <tr>\n",
       "      <th>2</th>\n",
       "      <td>2. Nutraceuticals research</td>\n",
       "      <td>.pdf</td>\n",
       "      <td>1</td>\n",
       "      <td>by clinical studies; (v) an evaluation of poss...</td>\n",
       "      <td>Here is a summary of the text, including the m...</td>\n",
       "    </tr>\n",
       "    <tr>\n",
       "      <th>3</th>\n",
       "      <td>2. Nutraceuticals research</td>\n",
       "      <td>.pdf</td>\n",
       "      <td>2</td>\n",
       "      <td>Table 1\\nSome deﬁnitions for food-derived prod...</td>\n",
       "      <td>Here is a summary of the text, including the m...</td>\n",
       "    </tr>\n",
       "    <tr>\n",
       "      <th>4</th>\n",
       "      <td>2. Nutraceuticals research</td>\n",
       "      <td>.pdf</td>\n",
       "      <td>2</td>\n",
       "      <td>(FUFOSE). Scientiﬁc concepts of\\nfunctional fo...</td>\n",
       "      <td>Here is a summary of the provided text:\\n\\nThe...</td>\n",
       "    </tr>\n",
       "  </tbody>\n",
       "</table>\n",
       "</div>"
      ],
      "text/plain": [
       "                    file_name file_type  page_number  \\\n",
       "0  2. Nutraceuticals research      .pdf            0   \n",
       "1  2. Nutraceuticals research      .pdf            1   \n",
       "2  2. Nutraceuticals research      .pdf            1   \n",
       "3  2. Nutraceuticals research      .pdf            2   \n",
       "4  2. Nutraceuticals research      .pdf            2   \n",
       "\n",
       "                                              chunks  \\\n",
       "0  REVIEW\\nNutraceuticals: opening the debate for...   \n",
       "1  Introduction\\nThere is a growing overlap betwe...   \n",
       "2  by clinical studies; (v) an evaluation of poss...   \n",
       "3  Table 1\\nSome deﬁnitions for food-derived prod...   \n",
       "4  (FUFOSE). Scientiﬁc concepts of\\nfunctional fo...   \n",
       "\n",
       "                                     concise_summary  \n",
       "0  Here is a summary of the text with the main po...  \n",
       "1  Here is a summary of the text with the main po...  \n",
       "2  Here is a summary of the text, including the m...  \n",
       "3  Here is a summary of the text, including the m...  \n",
       "4  Here is a summary of the provided text:\\n\\nThe...  "
      ]
     },
     "execution_count": 22,
     "metadata": {},
     "output_type": "execute_result"
    }
   ],
   "source": [
    "pdf_refine_summary = pd.DataFrame.from_dict(final_refine_data)\n",
    "pdf_refine_summary = pdf_mp_summary.sort_values(\n",
    "    by=[\"file_name\", \"page_number\"]\n",
    ")  # sorting the dataframe by filename and page_number\n",
    "pdf_refine_summary.reset_index(inplace=True, drop=True)\n",
    "pdf_refine_summary.head()"
   ]
  },
  {
   "cell_type": "code",
   "execution_count": 23,
   "metadata": {
    "id": "jvLVCs8Gbwbw"
   },
   "outputs": [
    {
     "name": "stdout",
     "output_type": "stream",
     "text": [
      "[Context]\n",
      "Table 1\n",
      "Some deﬁnitions for food-derived products\n",
      "Food supplement (United States\n",
      "Government Ofﬁce, 1994)\n",
      "A product (other than tobacco) in the form of a\n",
      "capsule, powder, softgel or gelcap intended to\n",
      "supplement the diet to enhance health that\n",
      "bears or contains one or more of the\n",
      "following dietary ingredients: a vitamin,\n",
      "mineral, amino acid, or other botanical\n",
      "or dietary substance.\n",
      "United States Food and Drug Administration\n",
      "(FDA). Dietary Supplement Health and Education\n",
      "Act (DSHEA). U.S. Department of Health and\n",
      "Human Services. 1994. United States. Public\n",
      "Law 103–417, available at FDA Website:\n",
      "http://www.fda.gov. [42]\n",
      "Food supplement (EU, 2002)\n",
      "Food product whose purpose is to\n",
      "supplement the normal diet and which\n",
      "consists of a concentrated source of nutrients\n",
      "or other substances with nutritional effects\n",
      "or physiological, single or in combination,\n",
      "marketed in dosed formulations, such as capsules,\n",
      "tablets, tablets or pills, designed to be taken\n",
      "in small individual quantities measured.\n",
      "EU Directive 2002/46/EC [17]\n",
      "Phytochemical (Bloch and\n",
      "Thomson, 1995)\n",
      "Substances found in edible fruit and vegetables\n",
      "that can be ingested daily (in quantities of grams)\n",
      "by humans and that exhibit a potential to\n",
      "favourably modulate human metabolism to\n",
      "prevent cancer and other diseases (isoﬂavones,\n",
      "resveratrol, garlic allyl sulphides, tomato\n",
      "lycopene, onion quercetin etc.).\n",
      "Bloch A, Thomson CA. Position of The\n",
      "American Dietetic Association (phytochemicals\n",
      "and functional foods). J Am Diet Assoc\n",
      "1995; 95: 493–496. [74]\n",
      "Nutraceuticals (De Felice, 1995)\n",
      "Food or part of food that provides medical\n",
      "or health beneﬁts, including the prevention\n",
      "and/or treatment of a disease.\n",
      "DeFelice SL. The nutraceutical revolution:\n",
      "its impact on food industry R&D. Trends\n",
      "Food Sci Technol 1995; 6: 59–61. [2]\n",
      "Nutraceuticals (Zeisel, 1999;\n",
      "DSHEA, 1994)\n",
      "A diet supplement that delivers a\n",
      "concentrated form of a biologically\n",
      "active component of food in a nonfood\n",
      "matrix to enhance health.\n",
      "Zeisel SH. Regulation of “Nutraceuticals”.\n",
      "Science. 1999: 285; 1853–5. Food and\n",
      "Drug Administration, FDA, Dietary\n",
      "Supplement Health and Education\n",
      "Act of 1994 (DSHEA), United States. [75]\n",
      "Nutraceuticals (Brower, 1998)\n",
      "Any substance that is a food or a part\n",
      "of a food and is able to induce medical\n",
      "and health beneﬁts, including the\n",
      "prevention and treatment of disease.\n",
      "Brower V. Nat Biotechnol 1998; 16: 728. [76]\n",
      "Nutraceuticals (Merriam Webster\n",
      "Dictionary, 2015)\n",
      "A foodstuff (as a fortiﬁed food or\n",
      "dietary supplement) that provides\n",
      "health beneﬁts in addition to\n",
      "its basic nutritional.\n",
      "Merriam-Webster Online Dictionary. 2015.\n",
      "Merriam-Webster Inc., P.O. Box 281,\n",
      "Springﬁeld, MA 01102, United States. [77]\n",
      "Nutraceuticals (ENA, 2016)\n",
      "Nutritional products that provide\n",
      "health and medical beneﬁts,\n",
      "including the prevention\n",
      "and treatment of disease.\n",
      "European Nutraceutical Association (ENA).\n",
      "2016. Science behind Nutraceuticals.\n",
      "In E. N. Association (Ed.),\n",
      "(Vol. 2016). 594 Basel, Switzerland. [78]\n",
      "Functional food (Zeisel, 1999)\n",
      "Nutrient consumed as part of a\n",
      "normal diet but delivering one or\n",
      "more active ingredients\n",
      "(that have physiological effects\n",
      "and may enhance health)\n",
      "within the food matrix.\n",
      "Zeisel SH. Regulation of “Nutraceuticals”.\n",
      "Science 1999: 285; 1853–5. Food and\n",
      "Drug Administration, FDA, Dietary\n",
      "Supplement Health and Education\n",
      "Act of 1994 (DSHEA), United States. [79]\n",
      "Functional food (Diplock et al., 1999)\n",
      "Product which is shown in a satisfactory\n",
      "manner that, in addition to adequate\n",
      "nutritional effects, induces beneﬁcial\n",
      "effects on one or more target functions\n",
      "of the organism, signiﬁcantly improving\n",
      "the health status and welfare or\n",
      "reducing the risk of disease.\n",
      "Diplock A, Aggett P, Ashwell M, Bornet F,\n",
      "Fern E, Roberfroid M. The European\n",
      "Commission concerted action on\n",
      "functional foods science in Europe\n",
      "(FUFOSE). Scientiﬁc concepts of\n",
      "functional foods in Europe.\n",
      "Consensus document.\n",
      "Br J Nutr 1999; 81: S1–S27. [80]\n",
      "Functional food (Hardy, 2000)\n",
      "Any food or ingredient that has a positive\n",
      "\n",
      "\n",
      " [Simple Summary]\n",
      "Here is a summary of the text, including the main points and important details:\n",
      "\n",
      "The text defines various terms related to food-derived products, including supplements, phytochemicals, nutraceuticals, functional foods, and others. The main definitions are as follows:\n",
      "\n",
      "1. **Food supplement**: A product that enhances health by providing dietary ingredients such as vitamins, minerals, amino acids, or botanical substances.\n",
      "2. **Phytochemical**: Substances found in edible fruits and vegetables that can modulate human metabolism to prevent diseases.\n",
      "3. **Nutraceuticals**: Food or part of food that provides medical or health benefits, including the prevention and/or treatment of disease.\n",
      "4. **Functional foods**: Foods that deliver one or more active ingredients with physiological effects, which may enhance health when consumed as part of a normal diet.\n",
      "\n",
      "Important details include:\n",
      "\n",
      "* The definitions are provided by various organizations, such as the US FDA, EU Directive 2002/46/EC, and Merriam-Webster Dictionary.\n",
      "* Phytochemicals and nutraceuticals are often associated with cancer prevention and disease treatment.\n",
      "* Functional foods are defined in different ways, but generally involve delivering active ingredients that enhance health or reduce disease risk.\n",
      "* The European Commission's concerted action on\n",
      "\n",
      "\n",
      " [Page number]\n",
      "2\n",
      "\n",
      "\n",
      " [Source: file_name]\n",
      "2. Nutraceuticals research\n"
     ]
    }
   ],
   "source": [
    "index = 3\n",
    "print(\"[Context]\")\n",
    "print(pdf_refine_summary[\"chunks\"].iloc[index])\n",
    "print(\"\\n\\n [Simple Summary]\")\n",
    "print(pdf_refine_summary[\"concise_summary\"].iloc[index])\n",
    "print(\"\\n\\n [Page number]\")\n",
    "print(pdf_refine_summary[\"page_number\"].iloc[index])\n",
    "print(\"\\n\\n [Source: file_name]\")\n",
    "print(pdf_refine_summary[\"file_name\"].iloc[index])"
   ]
  },
  {
   "cell_type": "markdown",
   "metadata": {
    "id": "7dwgbRTrM5Cb"
   },
   "source": [
    "### Considerations"
   ]
  },
  {
   "cell_type": "markdown",
   "metadata": {
    "id": "1H0Y5pPcXbgm"
   },
   "source": [
    "In short, the Refine method for text summarization with LLMs can pull in more relevant context and may be less lossy than Map Reduce. However, it requires many more calls to the LLM than Stuffing, and these calls are not independent, meaning they cannot be parallelized. Additionally, there is some potential dependency on the ordering of the documents. Latest documents they might become more relevant as this method suffers from recency bias."
   ]
  },
  {
   "cell_type": "markdown",
   "metadata": {
    "id": "HAaWXncPMhv4"
   },
   "source": [
    "## Conclusion\n",
    "\n",
    "\n",
    "In this notebook you learn about different techniques to summarize long documents with LangChain and PaLM API. What you have seen in this notebook are only some of the possibilities you have. For example, there is another method called the Map-Rerank method which involves running an initial prompt on each chunk of data, which not only tries to complete a task but also gives a score for how certain it is in its answer. The responses are then ranked according to this score, and the highest score is returned.\n",
    "\n",
    "With that being said, it is important to highlight that depending on your needs you may consider to use pure Foundational model with a custom framework to build generative ai application.\n",
    "\n",
    "Here are some of the benefits of using a foundational model with a custom framework:\n",
    "\n",
    " - More flexibility to implement your application with different LLMs, prompting templates, document handling strategies and more.\n",
    "\n",
    " - More control to customize your generative applications based on your scenario.\n",
    "\n",
    " - Better performance to improve latency and scalability of your application.\n"
   ]
  }
 ],
 "metadata": {
  "colab": {
   "name": "summarization_large_documents_langchain.ipynb",
   "toc_visible": true
  },
  "kernelspec": {
   "display_name": "langchain",
   "language": "python",
   "name": "python3"
  },
  "language_info": {
   "codemirror_mode": {
    "name": "ipython",
    "version": 3
   },
   "file_extension": ".py",
   "mimetype": "text/x-python",
   "name": "python",
   "nbconvert_exporter": "python",
   "pygments_lexer": "ipython3",
   "version": "3.10.15"
  }
 },
 "nbformat": 4,
 "nbformat_minor": 0
}
