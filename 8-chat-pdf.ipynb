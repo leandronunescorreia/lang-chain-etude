{
 "cells": [
  {
   "cell_type": "code",
   "execution_count": 91,
   "metadata": {},
   "outputs": [],
   "source": [
    "from langchain_community.document_loaders import PyMuPDFLoader\n",
    "\n",
    "loader = PyMuPDFLoader('docs//health supplements//1. dietary supplements - for whom.pdf')"
   ]
  },
  {
   "cell_type": "code",
   "execution_count": 92,
   "metadata": {},
   "outputs": [
    {
     "data": {
      "text/plain": [
       "17"
      ]
     },
     "execution_count": 92,
     "metadata": {},
     "output_type": "execute_result"
    }
   ],
   "source": [
    "docs = loader.load()\n",
    "len(docs)"
   ]
  },
  {
   "cell_type": "code",
   "execution_count": 93,
   "metadata": {},
   "outputs": [
    {
     "name": "stdout",
     "output_type": "stream",
     "text": [
      "International  Journal  of\n",
      "Environmental Research\n",
      "and Public Health\n",
      "Review\n",
      "Dietary Supplements—For Whom? The Current State of\n",
      "Knowledge about the Health Effects of Selected\n",
      "Supplement Use\n",
      "Regina Ewa Wierzejska\n",
      "\u0001\u0002\u0003\u0001\u0004\u0005\u0006\u0001\n",
      "\u0001\u0002\u0003\u0004\u0005\u0006\u0007\n",
      "Citation: Wierzejska, R.E. Dietary\n",
      "Supplements—For Whom? The\n",
      "Current State of Knowledge about the\n",
      "Health Effects of Selected Supplement\n",
      "Use. Int. J. Environ. Res. Public Health\n",
      "2021, 18, 8897. https://doi.org/\n",
      "10.3390/ijerph18178897\n",
      "Academic Editor: Paul B. Tchounwou\n",
      "Received: 15 July 2021\n",
      "Accepted: 21 August 2021\n",
      "Published: 24 August 2021\n",
      "Publisher’s Note: MDPI stays neutral\n",
      "with regard to jurisdictional claims in\n",
      "published maps and institutional afﬁl-\n",
      "iations.\n",
      "Copyright: © 2021 by the author.\n",
      "Licensee MDPI, Basel, Switzerland.\n",
      "This article is an open access article\n",
      "distributed\n",
      "under\n",
      "the\n",
      "terms\n",
      "and\n",
      "conditions of the Creative Commons\n",
      "Attribution (CC BY) license (https://\n",
      "creativecommons.org/licenses/by/\n",
      "4.0/).\n",
      "Department of Nutrition and Nutritional Value of Food, National Institute of Public Health NIH—National\n",
      "Research Institute, Chocimska St. 24, 00-791 Warsaw, Poland; rwierzejska@pzh.gov.pl\n",
      "Abstract: Dietary supplements are products containing nutrients sold in various medicinal forms,\n",
      "and their widespread use may stem from the conviction that a preparation that looks like a drug\n",
      "must have therapeutic properties. The aim of this scoping review is to present what is known\n",
      "about the effects of using selected dietary supplements in the context of chronic diseases, as well\n",
      "as the risks associated with their use. The literature shows that the taking of vitamin and mineral\n",
      "supplements by healthy people neither lowers their risk of cardiovascular diseases nor prevents\n",
      "the development of malignancies. Many scientiﬁc societies recognize that omega-3 fatty acids\n",
      "lower blood triglycerides, but whether taking them prevents heart disease is less clear-cut. Taking\n",
      "weight loss supplements is not an effective method of ﬁghting obesity. Often, some supplements\n",
      "are increasingly sold illegally, which is then also associated with the higher risk that they may\n",
      "be adulterated with banned substances, thus making them even more dangerous and potentially\n",
      "life-threatening. Supplements are necessary in cases of nutrient deﬁciency; however, even though\n",
      "prescription is not required, their use should be recommended and monitored by a physician.\n",
      "Keywords: dietary supplements; legal regulations; health; safety\n",
      "1. Introduction\n",
      "In accordance with the European Union law, as well as the United States law, dietary\n",
      "supplements mean products that are concentrated sources of vitamins, minerals, or other\n",
      "substances with a nutritional or physiological effect (e.g., amino acids, essential fatty acids,\n",
      "probiotics, plants, and herbal extracts) intended to supplement the regular diet. Dietary\n",
      "supplements are produced in the form of capsules, tablets, pills, and other similar forms,\n",
      "designed to be taken in measured small unit quantities [1,2]. Dietary supplements, despite\n",
      "their route of administration and drug-like appearance, have been classiﬁed as foodstuffs\n",
      "and not medicines. Thus, in formal terms, supplement users are consumers rather than\n",
      "patients, but the question remains whether it is sick or healthy individuals who should\n",
      "be the primary users. The market for dietary supplements continues to expand at a rapid\n",
      "pace, and manufacturers develop products for health problems affecting almost all organs\n",
      "of the body, as well as for non-existing conditions, e.g., supplements for bladder elasticity.\n",
      "Additionally, a growing awareness among the public about the role of nutrition in the\n",
      "maintenance of health, together with widespread beliefs about today’s food being poor in\n",
      "vitamins (e.g., due to impoverished soil), are among the reasons for dietary supplement\n",
      "use becoming common practice or even the norm.\n",
      "Skyrocketing sales of supplements in times of the widespread accessibility and over-\n",
      "consumption of a wide range of foods may be described as the “supplement use phe-\n",
      "nomenon”. In the US, over 50% of adults declare supplement use, and in some studies\n",
      "almost 40% had taken dietary supplements during the previous 30 days when they were\n",
      "questioned [3,4]. In Poland, supplement use has been reported by 30–78% of adolescents\n",
      "and adults [5–7] and by approximately 40% of children [8]. Only one-quarter of supplement\n",
      "Int. J. Environ. Res. Public Health 2021, 18, 8897. https://doi.org/10.3390/ijerph18178897\n",
      "https://www.mdpi.com/journal/ijerph\n",
      "\n"
     ]
    }
   ],
   "source": [
    "print(docs[0].page_content)"
   ]
  },
  {
   "cell_type": "code",
   "execution_count": 94,
   "metadata": {},
   "outputs": [
    {
     "name": "stdout",
     "output_type": "stream",
     "text": [
      "{'source': 'docs//health supplements//1. dietary supplements - for whom.pdf', 'file_path': 'docs//health supplements//1. dietary supplements - for whom.pdf', 'page': 0, 'total_pages': 17, 'format': 'PDF 1.7', 'title': '', 'author': '', 'subject': '', 'keywords': '', 'creator': '', 'producer': 'iLovePDF', 'creationDate': '', 'modDate': 'D:20241021113754Z', 'trapped': ''}\n"
     ]
    }
   ],
   "source": [
    "print(docs[0].metadata)"
   ]
  },
  {
   "cell_type": "code",
   "execution_count": 95,
   "metadata": {},
   "outputs": [
    {
     "data": {
      "text/plain": [
       "5"
      ]
     },
     "execution_count": 95,
     "metadata": {},
     "output_type": "execute_result"
    }
   ],
   "source": [
    "import os\n",
    "\n",
    "pdfs = []\n",
    "\n",
    "for root, dirs, files in os.walk('docs'):\n",
    "    for file in files:\n",
    "        if file.endswith('.pdf'):\n",
    "            pdfs.append(os.path.join(root, file))\n",
    "\n",
    "len(pdfs)"
   ]
  },
  {
   "cell_type": "code",
   "execution_count": 96,
   "metadata": {},
   "outputs": [
    {
     "data": {
      "text/plain": [
       "64"
      ]
     },
     "execution_count": 96,
     "metadata": {},
     "output_type": "execute_result"
    }
   ],
   "source": [
    "docs = []\n",
    "\n",
    "for pdf in pdfs:\n",
    "    loader = PyMuPDFLoader(pdf)\n",
    "    temp = loader.load()\n",
    "    docs.extend(temp)\n",
    "\n",
    "len(docs)"
   ]
  },
  {
   "cell_type": "code",
   "execution_count": 97,
   "metadata": {},
   "outputs": [
    {
     "data": {
      "text/plain": [
       "258804"
      ]
     },
     "execution_count": 97,
     "metadata": {},
     "output_type": "execute_result"
    }
   ],
   "source": [
    "def format_text(docs):\n",
    "    return '\\n\\n'.join([x.page_content for x in docs])\n",
    "\n",
    "context = format_text(docs)\n",
    "len(context)"
   ]
  },
  {
   "cell_type": "code",
   "execution_count": 98,
   "metadata": {},
   "outputs": [
    {
     "data": {
      "text/plain": [
       "True"
      ]
     },
     "execution_count": 98,
     "metadata": {},
     "output_type": "execute_result"
    }
   ],
   "source": [
    "os.path.join(os.path.expanduser(\"~\"), \".cache\", \"huggingface\", \"hub\") == \"C:\\\\Users\\\\leand\\\\.cache\\\\huggingface\\\\hub\""
   ]
  },
  {
   "cell_type": "code",
   "execution_count": 99,
   "metadata": {},
   "outputs": [
    {
     "name": "stdout",
     "output_type": "stream",
     "text": [
      "Downloaded Hugging Face Models:\n",
      "- .locks\n",
      "- datasets--mrdbourke--learn_hf_food_not_food_image_captions\n",
      "- models--CIDAS--clipseg-rd64-refined\n",
      "- models--CompVis--stable-diffusion-v1-4\n",
      "- models--dbmdz--bert-large-cased-finetuned-conll03-english\n",
      "- models--distilbert--distilbert-base-cased\n",
      "- models--distilbert--distilbert-base-cased-distilled-squad\n",
      "- models--distilbert--distilbert-base-uncased-finetuned-sst-2-english\n",
      "- models--distilbert--distilroberta-base\n",
      "- models--facebook--bart-large-mnli\n",
      "- models--Helsinki-NLP--opus-mt-en-es\n",
      "- models--lllyasviel--Annotators\n",
      "- models--openai-community--gpt2\n",
      "- models--RunDiffusion--RunDiffusion-XL-Beta\n",
      "- models--runwayml--stable-diffusion-v1-5\n",
      "- models--sshleifer--distilbart-cnn-12-6\n",
      "- models--stabilityai--stable-diffusion-2-1\n",
      "- models--stablediffusionapi--deliberate-v2\n",
      "- models--Systran--faster-whisper-large-v3\n",
      "- models--takuma104--control_v11\n",
      "- models--thibaud--controlnet-openpose-sdxl-1.0\n"
     ]
    }
   ],
   "source": [
    "import os\n",
    "\n",
    "# Get the cache directory\n",
    "cache_dir = os.getenv(\"TRANSFORMERS_CACHE\", os.path.join(os.path.expanduser(\"~\"), \".cache\", \"huggingface\", \"hub\"))\n",
    "\n",
    "# List all model folders in the cache directory\n",
    "if os.path.exists(cache_dir):\n",
    "    models = [name for name in os.listdir(cache_dir) if os.path.isdir(os.path.join(cache_dir, name))]\n",
    "    print(\"Downloaded Hugging Face Models:\")\n",
    "    for model in models:\n",
    "        print(f\"- {model}\")\n",
    "else:\n",
    "    print(\"No models found in the Hugging Face cache directory.\")\n"
   ]
  },
  {
   "cell_type": "code",
   "execution_count": 100,
   "metadata": {},
   "outputs": [],
   "source": [
    "import tiktoken\n",
    "\n",
    "encoding = tiktoken.encoding_for_model('gpt-4o-mini')"
   ]
  },
  {
   "cell_type": "code",
   "execution_count": 101,
   "metadata": {},
   "outputs": [
    {
     "data": {
      "text/plain": [
       "[542, 111291, 14571]"
      ]
     },
     "execution_count": 101,
     "metadata": {},
     "output_type": "execute_result"
    }
   ],
   "source": [
    "encoding.encode('congratulations')"
   ]
  },
  {
   "cell_type": "code",
   "execution_count": 102,
   "metadata": {},
   "outputs": [
    {
     "data": {
      "text/plain": [
       "969"
      ]
     },
     "execution_count": 102,
     "metadata": {},
     "output_type": "execute_result"
    }
   ],
   "source": [
    "len(encoding.encode(docs[0].page_content))"
   ]
  },
  {
   "cell_type": "code",
   "execution_count": 103,
   "metadata": {},
   "outputs": [
    {
     "data": {
      "text/plain": [
       "60271"
      ]
     },
     "execution_count": 103,
     "metadata": {},
     "output_type": "execute_result"
    }
   ],
   "source": [
    "len(encoding.encode(context))"
   ]
  },
  {
   "cell_type": "markdown",
   "metadata": {},
   "source": [
    "The size is supported by llama3 thatr supports 128k"
   ]
  },
  {
   "cell_type": "code",
   "execution_count": 104,
   "metadata": {},
   "outputs": [
    {
     "data": {
      "text/plain": [
       "62016"
      ]
     },
     "execution_count": 104,
     "metadata": {},
     "output_type": "execute_result"
    }
   ],
   "source": [
    "969*64"
   ]
  },
  {
   "cell_type": "code",
   "execution_count": 105,
   "metadata": {},
   "outputs": [],
   "source": [
    "from langchain_ollama import ChatOllama\n",
    "from langchain_core.prompts import SystemMessagePromptTemplate, HumanMessagePromptTemplate, PromptTemplate, ChatPromptTemplate\n",
    "from langchain_core.output_parsers import StrOutputParser\n",
    "import textwrap"
   ]
  },
  {
   "cell_type": "code",
   "execution_count": 106,
   "metadata": {},
   "outputs": [],
   "source": [
    "base_url = \"http://localhost:11434\"\n",
    "model = \"llama3.2:3b\"\n",
    "\n",
    "llm = ChatOllama(base_url=base_url,\n",
    "                 model=model,\n",
    "                 temperature=0.1,\n",
    "                 num_predict=256\n",
    "                 )"
   ]
  },
  {
   "cell_type": "code",
   "execution_count": 107,
   "metadata": {},
   "outputs": [],
   "source": [
    "system = SystemMessagePromptTemplate.from_template(\"\"\"\n",
    "You are a helpful AI assistant who answer user question based on provide context.\n",
    "Do not answer in more than {words} words\n",
    "\"\"\")"
   ]
  },
  {
   "cell_type": "code",
   "execution_count": 108,
   "metadata": {},
   "outputs": [],
   "source": [
    "prompt = \"\"\"Answer user question based on the provided context ONLY! if do not know the answer, just sai \"I don't know\".\n",
    "### Context:\n",
    "{context}\n",
    "\n",
    "### Question:\n",
    "{question}\n",
    "\n",
    "### Answer:\n",
    "\"\"\"\n",
    "\n",
    "prompt = HumanMessagePromptTemplate.from_template(prompt)\n",
    "\n",
    "messages = [system, prompt]\n",
    "template = ChatPromptTemplate(messages)"
   ]
  },
  {
   "cell_type": "code",
   "execution_count": 109,
   "metadata": {},
   "outputs": [],
   "source": [
    "# template.invoke({'context':context, 'question': 'How do I gain mass>', 'words': 50})"
   ]
  },
  {
   "cell_type": "code",
   "execution_count": 110,
   "metadata": {},
   "outputs": [
    {
     "data": {
      "text/plain": [
       "ChatPromptTemplate(input_variables=['context', 'question', 'words'], input_types={}, partial_variables={}, messages=[SystemMessagePromptTemplate(prompt=PromptTemplate(input_variables=['words'], input_types={}, partial_variables={}, template='\\nYou are a helpful AI assistant who answer user question based on provide context.\\nDo not answer in more than {words} words\\n'), additional_kwargs={}), HumanMessagePromptTemplate(prompt=PromptTemplate(input_variables=['context', 'question'], input_types={}, partial_variables={}, template='Answer user question based on the provided context ONLY! if do not know the answer, just sai \"I don\\'t know\".\\n### Context:\\n{context}\\n\\n### Question:\\n{question}\\n\\n### Answer:\\n'), additional_kwargs={})])\n",
       "| ChatOllama(model='llama3.2:3b', num_predict=256, temperature=0.1, base_url='http://localhost:11434')\n",
       "| StrOutputParser()"
      ]
     },
     "execution_count": 110,
     "metadata": {},
     "output_type": "execute_result"
    }
   ],
   "source": [
    "qna_chain = template | llm | StrOutputParser()\n",
    "qna_chain"
   ]
  },
  {
   "cell_type": "code",
   "execution_count": 111,
   "metadata": {},
   "outputs": [
    {
     "name": "stdout",
     "output_type": "stream",
     "text": [
      "I can't provide a direct answer to your question as it seems unrelated\n",
      "to the provided text about botanical supplements and their potential\n",
      "toxic mechanisms. However, I can offer some general information on how\n",
      "to gain muscle mass.  Gaining muscle mass requires a combination of\n",
      "proper nutrition, consistent training, and sufficient rest. Here are\n",
      "some tips:  1. **Eat enough protein**: Protein is essential for muscle\n",
      "growth and repair. Aim for 1-1.5 grams of protein per kilogram of body\n",
      "weight daily. 2. **Increase caloric intake**: To build muscle, you\n",
      "need to be in a calorie surplus, meaning you consume more calories\n",
      "than your body burns. This will provide your body with the necessary\n",
      "energy to build new muscle tissue. 3. **Focus on compound exercises**:\n",
      "Compound exercises like squats, deadlifts, bench press, and rows work\n",
      "multiple muscle groups at once and are effective for building muscle.\n",
      "4. **Progressive overload**: Gradually increase the weight or\n",
      "resistance you're lifting over time to challenge your muscles and\n",
      "stimulate growth. 5. **Rest and recovery**: Adequate rest and recovery\n",
      "are crucial for muscle growth. Ensure you get 7-9 hours of sleep daily\n",
      "and take rest days as needed.  Please consult with a healthcare\n",
      "professional or registered dietitian for\n"
     ]
    }
   ],
   "source": [
    "response = qna_chain.invoke({'context':context, 'question': 'How to gain muscle mass?', 'words': 50})\n",
    "print(textwrap.fill(response))"
   ]
  },
  {
   "cell_type": "code",
   "execution_count": 112,
   "metadata": {},
   "outputs": [
    {
     "name": "stdout",
     "output_type": "stream",
     "text": [
      "There is no answer provided for the question \"How to reduce the\n",
      "weight?\" as it seems unrelated to the text about botanical supplements\n",
      "and their potential toxic mechanisms. However, I can provide some\n",
      "general information on how to reduce weight.  To reduce weight, a\n",
      "combination of healthy diet, regular exercise, and lifestyle changes\n",
      "can be effective. Here are some tips:  1. Eat a balanced diet: Focus\n",
      "on whole, unprocessed foods like vegetables, fruits, whole grains,\n",
      "lean proteins, and healthy fats. 2. Keep track of calorie intake: Use\n",
      "a food diary or an app to monitor your daily calorie consumption. 3.\n",
      "Increase physical activity: Aim for at least 150 minutes of moderate-\n",
      "intensity exercise or 75 minutes of vigorous-intensity exercise per\n",
      "week. 4. Stay hydrated: Drink plenty of water throughout the day. 5.\n",
      "Get enough sleep: Aim for 7-9 hours of sleep per night. 6. Manage\n",
      "stress: Engage in stress-reducing activities like meditation, yoga, or\n",
      "deep breathing exercises.  It's also important to consult with a\n",
      "healthcare professional before starting any weight loss program,\n",
      "especially if you have any underlying health conditions.  The text\n",
      "about botanical supplements and their potential toxic mechanisms is\n",
      "not related to the question about reducing weight.\n"
     ]
    }
   ],
   "source": [
    "response = qna_chain.invoke({'context':context, 'question': 'How to reduce the weight?', 'words': 50})\n",
    "print(textwrap.fill(response))"
   ]
  },
  {
   "cell_type": "code",
   "execution_count": 113,
   "metadata": {},
   "outputs": [
    {
     "name": "stdout",
     "output_type": "stream",
     "text": [
      "I can't answer that question as it is not related to the text about\n",
      "botanical supplements and their potential toxic mechanisms. If you\n",
      "have a different question or need information on a specific topic,\n",
      "feel free to ask!\n"
     ]
    }
   ],
   "source": [
    "response = qna_chain.invoke({'context':context, 'question': 'How to do weight loss?', 'words': 50})\n",
    "print(textwrap.fill(response))"
   ]
  },
  {
   "cell_type": "code",
   "execution_count": 114,
   "metadata": {},
   "outputs": [
    {
     "name": "stdout",
     "output_type": "stream",
     "text": [
      "It seems like there was a mistake. The text you provided doesn't seem\n",
      "to be related to the question \"How to live in planet earth?\" at all.\n",
      "It appears to be a passage about botanical supplements and their\n",
      "potential toxic mechanisms.  If you could provide more context or\n",
      "clarify what you're looking for, I'd be happy to try and assist you.\n"
     ]
    }
   ],
   "source": [
    "response = qna_chain.invoke({'context':context, 'question': 'How to live in planet earth?', 'words': 50})\n",
    "print(textwrap.fill(response))"
   ]
  },
  {
   "cell_type": "markdown",
   "metadata": {},
   "source": [
    "# Summarization"
   ]
  },
  {
   "cell_type": "code",
   "execution_count": 118,
   "metadata": {},
   "outputs": [],
   "source": [
    "system = SystemMessagePromptTemplate.from_template(\"\"\"\n",
    "You are a helpful AI assistant who work as document summarizer.\n",
    "You muast not hallucinate or provide any false information\n",
    "\"\"\")\n",
    "\n",
    "prompt = \"\"\"Summarize the given context in {words}\".\n",
    "### Context:\n",
    "{context}\n",
    "\n",
    "### Summary:\n",
    "\"\"\"\n",
    "\n",
    "prompt = HumanMessagePromptTemplate.from_template(prompt)\n",
    "\n",
    "messages = [system, prompt]\n",
    "template = ChatPromptTemplate(messages)\n",
    "\n",
    "summary_chain = template | llm | StrOutputParser()"
   ]
  },
  {
   "cell_type": "code",
   "execution_count": 119,
   "metadata": {},
   "outputs": [
    {
     "name": "stdout",
     "output_type": "stream",
     "text": [
      "This article discusses the potential therapeutic and toxic mechanisms\n",
      "of action of various botanical supplements, including their primary\n",
      "active constituents, typical use and dosage, and reported adverse\n",
      "effects. The authors highlight that concurrent exposure to other\n",
      "compounds and the heterogeneity of herbal supplements can make it\n",
      "difficult to determine toxic mechanisms in clinical cases.  The\n",
      "article reviews case reports of adverse effects associated with\n",
      "various botanicals, including:  * Black cohosh: jaundice and liver\n",
      "failure * Kava kava: liver toxicity, depletion of glutathione, and\n",
      "inhibition of cyclooxygenases * Saw palmetto: cholestatic hepatitis\n",
      "and pancreatitis * Echinacea: acute liver failure * Valerian: jaundice\n",
      "that was reversed by steroid administration * Yohimbe: sympathomimetic\n",
      "properties leading to seizures and hypertension * Milk thistle:\n",
      "exacerbation of hemochromatosis * Ginseng: transient ischemia attack *\n",
      "Black cohosh: bradycardia  The authors also discuss potential herb-\n",
      "drug interactions, including the activation of metabolizing enzymes\n",
      "such as PXR and AhR. They highlight that induction or suppression of\n",
      "these enzymes can affect the pharmacokinetics of drugs and may warrant\n",
      "contraindications by healthcare providers.  Overall, the\n"
     ]
    }
   ],
   "source": [
    "summary = summary_chain.invoke({'context':context, 'words': 50})\n",
    "print(textwrap.fill(summary))"
   ]
  },
  {
   "cell_type": "markdown",
   "metadata": {},
   "source": [
    "# Report Generation from PDF Document"
   ]
  },
  {
   "cell_type": "code",
   "execution_count": 121,
   "metadata": {},
   "outputs": [
    {
     "name": "stdout",
     "output_type": "stream",
     "text": [
      "**Botanical Supplements: A Review of Their Primary Active Constituents, Typical Use and Dosage, and Reported Adverse Effects**\n",
      "\n",
      "The use of botanical supplements has become increasingly popular, with many individuals seeking to incorporate natural remedies into their health regimens. However, the safety and efficacy of these supplements can be compromised by various factors, including concurrent exposure to other compounds, heterogeneity of herbal supplements, and inadequate reporting of adverse effects.\n",
      "\n",
      "**Commonly Used Botanical Supplements**\n",
      "\n",
      "1. **Black Cohosh (Cimicifuga racemosa)**\n",
      "\t* Primary active constituents: Cymaritenol A, Cymaritenol B, and others\n",
      "\t* Typical use and dosage: Menopausal symptoms, hot flashes, and night sweats\n",
      "\t* Reported adverse effects: Jaundice, liver failure, and pathological oxidative stress\n",
      "2. **Kava Kava**\n",
      "\t* Primary active constituents: Kavain, Dihydrokavain, and others\n",
      "\t* Typical use and dosage: Anxiety, insomnia, and restlessness\n",
      "\t* Reported adverse effects: Liver toxicity, depletion of glutathione, and inhibition of cyclooxygenases\n",
      "3. **Saw Palmetto**\n",
      "\t* Primary active constituents: Furanoc\n"
     ]
    }
   ],
   "source": [
    "response = qna_chain.invoke({'context':context, 'question': 'Provide a detailed reposrt fom the provided context, write the answer in MarkDown', 'words': 2000})\n",
    "print(response)"
   ]
  }
 ],
 "metadata": {
  "kernelspec": {
   "display_name": "langchain",
   "language": "python",
   "name": "python3"
  },
  "language_info": {
   "codemirror_mode": {
    "name": "ipython",
    "version": 3
   },
   "file_extension": ".py",
   "mimetype": "text/x-python",
   "name": "python",
   "nbconvert_exporter": "python",
   "pygments_lexer": "ipython3",
   "version": "3.10.15"
  }
 },
 "nbformat": 4,
 "nbformat_minor": 2
}
