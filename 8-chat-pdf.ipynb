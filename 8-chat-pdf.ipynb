{
 "cells": [
  {
   "cell_type": "code",
   "execution_count": null,
   "metadata": {},
   "outputs": [],
   "source": [
    "from langchain_community.document_loaders import PyMuPDFLoader\n",
    "\n",
    "loader = PyMuPDFLoader('health supplements//1. dietary supplements - for whom.pdf')"
   ]
  },
  {
   "cell_type": "code",
   "execution_count": null,
   "metadata": {},
   "outputs": [
    {
     "data": {
      "text/plain": [
       "15"
      ]
     },
     "execution_count": 3,
     "metadata": {},
     "output_type": "execute_result"
    }
   ],
   "source": [
    "docs = loader.load()\n",
    "len(docs)"
   ]
  },
  {
   "cell_type": "code",
   "execution_count": 4,
   "metadata": {},
   "outputs": [
    {
     "name": "stdout",
     "output_type": "stream",
     "text": [
      "Citation: Espeño, P.R.; Ong, A.K.S.;\n",
      "German, J.D.; Gumasing, M.J.J.; Casas,\n",
      "E.S. Analysis of Actual Fitness\n",
      "Supplement Consumption among\n",
      "Health and Fitness Enthusiasts. Foods\n",
      "2024, 13, 1424. https://doi.org/\n",
      "10.3390/foods13091424\n",
      "Academic Editors: Ilija Djekic\n",
      "and Nada Smigic\n",
      "Received: 30 March 2024\n",
      "Revised: 15 April 2024\n",
      "Accepted: 18 April 2024\n",
      "Published: 6 May 2024\n",
      "Copyright: © 2024 by the authors.\n",
      "Licensee MDPI, Basel, Switzerland.\n",
      "This article is an open access article\n",
      "distributed\n",
      "under\n",
      "the\n",
      "terms\n",
      "and\n",
      "conditions of the Creative Commons\n",
      "Attribution (CC BY) license (https://\n",
      "creativecommons.org/licenses/by/\n",
      "4.0/).\n",
      "foods\n",
      "Article\n",
      "Analysis of Actual Fitness Supplement Consumption among\n",
      "Health and Fitness Enthusiasts\n",
      "Paolo Renzo Espeño 1, Ardvin Kester S. Ong 1,2,*\n",
      ", Josephine D. German 1\n",
      ", Ma. Janice J. Gumasing 3\n",
      "and Ethan S. Casas 1\n",
      "1\n",
      "School of Industrial Engineering and Engineering Management, Mapúa University, 658 Muralla St.,\n",
      "Intramuros, Manila 1002, Philippines\n",
      "2\n",
      "E.T. Yuchengo School of Business, Mapúa University, 1191 Pablo Ocampo Sr. Ext., Makati 1204, Philippines\n",
      "3\n",
      "Department of Industrial and Systems Engineering, Gokongwei College of Engineering,\n",
      "De La Salle University, 2401 Taft Ave., Manila 1007, Philippines\n",
      "*\n",
      "Correspondence: aksong@mapua.edu.ph; Tel.: +63-(2)8247-5000 (ext. 6202)\n",
      "Abstract: With the rising popularity of fitness supplements, understanding the factors driving their\n",
      "consumption behaviors is crucial. This study investigated the actual consumption of fitness supple-\n",
      "ments utilizing the Theory of Planned Behavior (TPB), Health Belief Model (HBM), and the Theory\n",
      "of Effort Minimization in Physical Activity (TEMPA) frameworks. The TPB provided insights into\n",
      "how attitudes, subjective norms, and perceived behavioral control influence individuals’ intentions\n",
      "to consume fitness supplements. Additionally, the HBM sheds light on perceived effectiveness,\n",
      "benefits, barriers, and health motivation related to supplement consumption. Integrating the TEMPA\n",
      "framework further investigated the role of effort minimization in physical activity contexts. Through\n",
      "an online questionnaire, data were collected from a sample of 250 fitness supplement-consuming\n",
      "respondents. SEM analysis revealed significant associations between behavioral intentions and\n",
      "attitudes, perceived behavioral control, health motivation, and controlled precursors. However, it\n",
      "was seen that subjective norms, perceived effectiveness, perceived benefits, and automatic precursors\n",
      "were deemed insignificant. The findings contribute to a comprehensive understanding of the factors\n",
      "shaping actual consumption behaviors, offering valuable implications for marketers, health profes-\n",
      "sionals, and policymakers seeking to promote informed and responsible supplement use among\n",
      "health and fitness enthusiasts.\n",
      "Keywords: fitness supplements; health belief model; theory of effort of minimization; theory of\n",
      "planned behavior; structural equation modelling\n",
      "1. Introduction\n",
      "Supplementary drinks or fitness supplements are commonly used to enhance an\n",
      "individual’s performance in various sports and health settings, catering to both competitive\n",
      "and non-competitive athletes [1]. One widely known supplement for athletes and fitness\n",
      "enthusiasts is protein supplements like protein shakes. Others may be whey protein,\n",
      "caffeine, and creatine, to name a few. These supplements play a crucial role in helping\n",
      "individuals increase muscle mass, recover faster, and enhance their overall performance [2].\n",
      "Whey protein stands out as a top-quality protein source, containing more essential amino\n",
      "acids than traditional protein sources. Its numerous benefits have made it a popular choice\n",
      "for snacks and drinks among consumers [3]. Another widely embraced supplement is\n",
      "caffeine, which is found in many sports and food supplements. Caffeine reduces perceived\n",
      "effort, minimizes fatigue and pain, and proves to be effective for endurance and high-\n",
      "intensity activities, which is the choice of consumers [4].\n",
      "Creatine monohydrate is another well-known supplement used to gain muscle mass\n",
      "and support performance and recovery. It is known not to increase fat mass and remains\n",
      "effective even when taken in recommended doses [5]. Despite its popularity in the fitness\n",
      "Foods 2024, 13, 1424. https://doi.org/10.3390/foods13091424\n",
      "https://www.mdpi.com/journal/foods\n",
      "\n"
     ]
    }
   ],
   "source": [
    "print(docs[0].page_content)"
   ]
  },
  {
   "cell_type": "code",
   "execution_count": 5,
   "metadata": {},
   "outputs": [
    {
     "name": "stdout",
     "output_type": "stream",
     "text": [
      "{'source': 'gym supplements//1. Analysis of Actual Fitness Supplement.pdf', 'file_path': 'gym supplements//1. Analysis of Actual Fitness Supplement.pdf', 'page': 0, 'total_pages': 15, 'format': 'PDF 1.7', 'title': '', 'author': '', 'subject': '', 'keywords': '', 'creator': '', 'producer': 'iLovePDF', 'creationDate': '', 'modDate': 'D:20241021113850Z', 'trapped': ''}\n"
     ]
    }
   ],
   "source": [
    "print(docs[0].metadata)"
   ]
  },
  {
   "cell_type": "code",
   "execution_count": 12,
   "metadata": {},
   "outputs": [
    {
     "data": {
      "text/plain": [
       "5"
      ]
     },
     "execution_count": 12,
     "metadata": {},
     "output_type": "execute_result"
    }
   ],
   "source": [
    "import os\n",
    "\n",
    "pdfs = []\n",
    "\n",
    "for root, dirs, files in os.walk('docs'):\n",
    "    for file in files:\n",
    "        if file.endswith('.pdf'):\n",
    "            pdfs.append(os.path.join(root, file))\n",
    "\n",
    "len(pdfs)"
   ]
  },
  {
   "cell_type": "code",
   "execution_count": 13,
   "metadata": {},
   "outputs": [
    {
     "data": {
      "text/plain": [
       "64"
      ]
     },
     "execution_count": 13,
     "metadata": {},
     "output_type": "execute_result"
    }
   ],
   "source": [
    "docs = []\n",
    "\n",
    "for pdf in pdfs:\n",
    "    loader = PyMuPDFLoader(pdf)\n",
    "    temp = loader.load()\n",
    "    docs.extend(temp)\n",
    "\n",
    "len(docs)"
   ]
  },
  {
   "cell_type": "code",
   "execution_count": null,
   "metadata": {},
   "outputs": [],
   "source": [
    "def format_text(docs):\n",
    "    return '\\n\\n'.join([x.page_content for x in docs])\n",
    "\n",
    "context = format_text(docs)\n",
    "len(context)"
   ]
  }
 ],
 "metadata": {
  "kernelspec": {
   "display_name": "langchain",
   "language": "python",
   "name": "python3"
  },
  "language_info": {
   "codemirror_mode": {
    "name": "ipython",
    "version": 3
   },
   "file_extension": ".py",
   "mimetype": "text/x-python",
   "name": "python",
   "nbconvert_exporter": "python",
   "pygments_lexer": "ipython3",
   "version": "3.10.15"
  }
 },
 "nbformat": 4,
 "nbformat_minor": 2
}
