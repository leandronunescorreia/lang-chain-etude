{
 "cells": [
  {
   "cell_type": "code",
   "execution_count": 1,
   "metadata": {},
   "outputs": [],
   "source": [
    "from langchain_community.tools import WikipediaQueryRun\n",
    "from langchain_community.utilities import WikipediaAPIWrapper"
   ]
  },
  {
   "cell_type": "code",
   "execution_count": 2,
   "metadata": {},
   "outputs": [],
   "source": [
    "wikipedia = WikipediaQueryRun(api_wrapper=WikipediaAPIWrapper())"
   ]
  },
  {
   "cell_type": "code",
   "execution_count": 3,
   "metadata": {},
   "outputs": [
    {
     "data": {
      "text/plain": [
       "'Page: Closed-ended question\\nSummary: A closed-ended question is any question for which a researcher provides research participants with options from which to choose a response. Closed-ended questions are sometimes phrased as a statement that requires a response.\\nA closed-ended question contrasts with an open-ended question, which cannot easily be answered with specific information.\\n\\n\\n\\nPage: Capital city\\nSummary: A capital city or just capital is the municipality holding primary status in a country, state, province, department, or other subnational division, usually as its seat of the government. A capital is typically a city that physically encompasses the government\\'s offices and meeting places; the status as capital is often designated by its law or constitution. In some jurisdictions, including several countries, different branches of government are in different settlements, sometimes meaning multiple official capitals. In some cases, a distinction is made between the official (constitutional) capital and the seat of government, which is in another place. \\nEnglish-language news media often use the name of the capital city as an alternative name for the government of the country of which it is the capital, as a form of metonymy. For example, the \"relations between London and Washington\" refers to the \"relations between the United Kingdom and the United States\".\\n\\nPage: France\\nSummary: France, officially the French Republic, is a country located primarily in Western Europe. Its overseas regions and territories include French Guiana in South America, Saint Pierre and Miquelon in the North Atlantic, the French West Indies, and many islands in Oceania and the Indian Ocean, giving it one of the largest discontiguous exclusive economic zones in the world. Metropolitan France shares borders with Belgium and Luxembourg to the north, Germany to the northeast, Switzerland to the east, Italy and Monaco to the southeast, Andorra and Spain to the south, and a maritime border with the United Kingdom to the northwest. Its metropolitan area extends from the Rhine to the Atlantic Ocean and from the Mediterranean Sea to the English Channel and the North Sea. Its eighteen integral regions (five of which are overseas) span a combined area of 643,801 km2 (248,573 sq mi) and have a total population of 68.4 million as of January 2024. France is a semi-presidential republic with its capital in Paris, the country\\'s largest city and main cultural and commercial centre.\\nMetropolitan France was settled during the Iron Age by Celtic tribes known as Gauls before Rome annexed the area in 51 BC, leading to a distinct Gallo-Roman culture. In the Early Middle Ages, the Franks formed the Kingdom of Francia, which became the heartland of the Carolingian Empire. The Treaty of Verdun of 843 partitioned the empire, with West Francia evolving into the Kingdom of France. In the High Middle Ages, France was a powerful but decentralized feudal kingdom, but from the mid-14th to the mid-15th centuries, France was plunged into a dynastic conflict with England known as the Hundred Years\\' War. In the 16th century, the French Renaissance saw culture flourish and a French colonial empire rise. Internally, France was dominated by the conflict with the House of Habsburg and the French Wars of Religion between Catholics and Huguenots. France was successful in the Thirty Years\\' War and further increased its influence during the reign of Louis XIV.\\nThe French Revolution of 1789 overthrew the Ancien Régime and produced the Declaration of the Rights of Man, which expresses the nation\\'s ideals to this day. France reached its political and military zenith in the early 19th century under Napoleon Bonaparte, subjugating part of continental Europe and establishing the First French Empire. The collapse of the empire initiated a period of relative decline, in which France endured the Bourbon Restoration until the founding of the French Second Republic which was succeeded by the Second Fre'"
      ]
     },
     "execution_count": 3,
     "metadata": {},
     "output_type": "execute_result"
    }
   ],
   "source": [
    "response = wikipedia.invoke('what is the capital of france?')\n",
    "response"
   ]
  },
  {
   "cell_type": "markdown",
   "metadata": {},
   "source": [
    "# PUBMED"
   ]
  },
  {
   "cell_type": "code",
   "execution_count": 4,
   "metadata": {},
   "outputs": [],
   "source": [
    "from langchain_community.tools import PubmedQueryRun"
   ]
  },
  {
   "cell_type": "code",
   "execution_count": 5,
   "metadata": {},
   "outputs": [
    {
     "name": "stdout",
     "output_type": "stream",
     "text": [
      "Published: 2024-12-02\n",
      "Title: Building on the COVID-19 in Pregnancy in Scotland study to support ongoing surveillance, research, and pandemic preparedness for maternal and child health.\n",
      "Copyright Information: \n",
      "Summary::\n",
      "No abstract available\n",
      "\n",
      "Published: 2024-12-02\n",
      "Title: Post-COVID Mental Health Crises: Globally Minded for Solutions and Solidarity.\n",
      "Copyright Information: \n",
      "Summary::\n",
      "en masse.\n",
      "Mental health is deteriorating quickly and significantly globally post-COVID. Though there were already over 1 billion people living with mental disorders pre-pandemic, in the first year of COVID-19 alone, the prevalence of anxiety and depression soared by 25% worldwide. In light of the chronic shortages of mental health provider and resources, along with disruptions of available health services caused by the pandemic and COVID-related restrictions, technology is widely believed to hold the key to addressing rising mental health crises. However, hurdles such as fragmented and often suboptimal patient protection measures substantially undermine technology's potential to address the global mental health crises effectively, reliably, and at scale. To shed light on these issues, this paper aims to discuss the post-pandemic challenges and opportunities the global community could leverage to improve society's mental health\n",
      "\n",
      "Published: 2024-12-02\n",
      "Title: Financial hardship and caregiver and child mental health during the 3 years of the COVID-19 pandemic in Australia.\n",
      "Copyright Information: \n",
      "Summary::\n",
      "Household income and caregiver mental health are important drivers of children's health and development. The COVID-19 pandemic created huge economic and mental health disruptions. This study examines financial hardship and its relationship with caregiver and child mental health using Australia's only representative data spanning three years of the pandemic. Analysis of the repeated, cross-sectional National Child Health Poll included 12,408 caregivers and 20,339 children over six waves (June\n"
     ]
    }
   ],
   "source": [
    "search = PubmedQueryRun()\n",
    "print(search.invoke('COVID-19?'))"
   ]
  },
  {
   "cell_type": "markdown",
   "metadata": {},
   "source": [
    "# Tool CAlling"
   ]
  },
  {
   "cell_type": "code",
   "execution_count": 6,
   "metadata": {},
   "outputs": [],
   "source": [
    "from langchain_core.tools import tool\n",
    "from langchain_community.tools import DuckDuckGoSearchRun, DuckDuckGoSearchResults\n",
    "from langchain_community.utilities import DuckDuckGoSearchAPIWrapper\n",
    "\n",
    "@tool\n",
    "def wikipedia_search(query):\n",
    "    \"\"\"\n",
    "    Search wikipedia for general information.\n",
    "\n",
    "    Args:\n",
    "    Query: the search query\n",
    "    \"\"\"\n",
    "    wikipedia = WikipediaQueryRun(api_wrapper=WikipediaAPIWrapper())\n",
    "    response = wikipedia.invoke(query)\n",
    "    return response\n",
    "\n",
    "\n",
    "@tool\n",
    "def pubmed_search(query):\n",
    "    \"\"\"\n",
    "    Search pubmed for medical and science research information.\n",
    "\n",
    "    Args:\n",
    "    Query: the search query    \n",
    "    \"\"\"    \n",
    "    pubmed = PubmedQueryRun()\n",
    "    response = pubmed.invoke(query)\n",
    "    return response\n",
    "\n",
    "@tool\n",
    "def duckduckgo_search(query):\n",
    "    \"\"\"\n",
    "    Search duckduckgo for realtime news information.\n",
    "\n",
    "    Args:\n",
    "    Query: the search query        \n",
    "    \"\"\"    \n",
    "    wrapper = DuckDuckGoSearchAPIWrapper(region=\"pt-br\", time=\"d\", max_results=2)\n",
    "\n",
    "    search = DuckDuckGoSearchResults(\n",
    "            max_results=5,\n",
    "            # output_format=\"list\",\n",
    "            api_wrapper=wrapper,\n",
    "            source=\"news\"\n",
    "        )\n",
    "\n",
    "    response = search.invoke(query)\n",
    "    response"
   ]
  },
  {
   "cell_type": "code",
   "execution_count": 7,
   "metadata": {},
   "outputs": [
    {
     "data": {
      "text/plain": [
       "{'wikipedia_search': StructuredTool(name='wikipedia_search', description='Search wikipedia for general information.\\n\\nArgs:\\nQuery: the search query', args_schema=<class 'langchain_core.utils.pydantic.wikipedia_search'>, func=<function wikipedia_search at 0x000002306B9A7C70>),\n",
       " 'pubmed_search': StructuredTool(name='pubmed_search', description='Search pubmed for medical and science research information.\\n\\nArgs:\\nQuery: the search query', args_schema=<class 'langchain_core.utils.pydantic.pubmed_search'>, func=<function pubmed_search at 0x000002306BA084C0>),\n",
       " 'duckduckgo_search': StructuredTool(name='duckduckgo_search', description='Search duckduckgo for realtime news information.\\n\\nArgs:\\nQuery: the search query', args_schema=<class 'langchain_core.utils.pydantic.duckduckgo_search'>, func=<function duckduckgo_search at 0x000002306BA083A0>)}"
      ]
     },
     "execution_count": 7,
     "metadata": {},
     "output_type": "execute_result"
    }
   ],
   "source": [
    "tools = [wikipedia_search, pubmed_search, duckduckgo_search]\n",
    "list_of_tools = {tool.name: tool for tool in tools}\n",
    "list_of_tools"
   ]
  },
  {
   "cell_type": "code",
   "execution_count": 8,
   "metadata": {},
   "outputs": [],
   "source": [
    "from langchain_ollama import ChatOllama\n",
    "\n",
    "llm = ChatOllama(model='llama3.2:3b', base_url='http://localhost:11434')"
   ]
  },
  {
   "cell_type": "code",
   "execution_count": 36,
   "metadata": {},
   "outputs": [],
   "source": [
    "llm_with_tools = llm.bind_tools(tools)\n",
    "\n",
    "query = \"who was the champion of libertadores da américa championship?\"\n",
    "# query = \"who is Elon Musk?\"\n",
    "\n",
    "response = llm_with_tools.invoke(query)"
   ]
  },
  {
   "cell_type": "code",
   "execution_count": 37,
   "metadata": {},
   "outputs": [
    {
     "data": {
      "text/plain": [
       "AIMessage(content='', additional_kwargs={}, response_metadata={'model': 'llama3.2:3b', 'created_at': '2024-12-02T16:51:17.6431564Z', 'message': {'role': 'assistant', 'content': '', 'tool_calls': [{'function': {'name': 'wikipedia_search', 'arguments': {'query': 'Libertadores da América championship winner'}}}]}, 'done_reason': 'stop', 'done': True, 'total_duration': 713880500, 'load_duration': 35647400, 'prompt_eval_count': 287, 'prompt_eval_duration': 206913000, 'eval_count': 29, 'eval_duration': 469314000}, id='run-214989f6-9a6f-4de1-9765-419503402ab6-0', tool_calls=[{'name': 'wikipedia_search', 'args': {'query': 'Libertadores da América championship winner'}, 'id': 'a98ac4d5-b78e-4542-bac9-ba1ec576425f', 'type': 'tool_call'}], usage_metadata={'input_tokens': 287, 'output_tokens': 29, 'total_tokens': 316})"
      ]
     },
     "execution_count": 37,
     "metadata": {},
     "output_type": "execute_result"
    }
   ],
   "source": [
    "response"
   ]
  },
  {
   "cell_type": "code",
   "execution_count": 38,
   "metadata": {},
   "outputs": [
    {
     "data": {
      "text/plain": [
       "[{'name': 'wikipedia_search',\n",
       "  'args': {'query': 'Libertadores da América championship winner'},\n",
       "  'id': 'a98ac4d5-b78e-4542-bac9-ba1ec576425f',\n",
       "  'type': 'tool_call'}]"
      ]
     },
     "execution_count": 38,
     "metadata": {},
     "output_type": "execute_result"
    }
   ],
   "source": [
    "response.tool_calls"
   ]
  },
  {
   "cell_type": "code",
   "execution_count": 39,
   "metadata": {},
   "outputs": [
    {
     "data": {
      "text/plain": [
       "[{'name': 'wikipedia_search',\n",
       "  'args': {'query': 'Libertadores da América champion'},\n",
       "  'id': '8ce4b96d-306b-44b5-8708-6e6c789d7ddb',\n",
       "  'type': 'tool_call'}]"
      ]
     },
     "execution_count": 39,
     "metadata": {},
     "output_type": "execute_result"
    }
   ],
   "source": [
    "from langchain_core.messages import HumanMessage\n",
    "\n",
    "messages = [HumanMessage(query)]\n",
    "\n",
    "response = llm_with_tools.invoke(messages)\n",
    "response.tool_calls"
   ]
  },
  {
   "cell_type": "code",
   "execution_count": 40,
   "metadata": {},
   "outputs": [],
   "source": [
    "import textwrap\n",
    "\n",
    "answers = []\n",
    "for tool_call in response.tool_calls:\n",
    "    name = tool_call['name'].lower()\n",
    "    selected_tool = list_of_tools[name]\n",
    "    tool_msg = selected_tool.invoke(tool_call)\n",
    "    answers.append(tool_msg)"
   ]
  },
  {
   "cell_type": "code",
   "execution_count": 41,
   "metadata": {},
   "outputs": [
    {
     "name": "stdout",
     "output_type": "stream",
     "text": [
      "content='Page: Copa Libertadores\\nSummary: The CONMEBOL Libertadores, also known as Copa Libertadores de América (Portuguese: Copa/Taça Libertadores da América), is an annual continental club football competition organized by CONMEBOL since 1960. It is the highest level of competition in South American club football. The tournament is named after the Libertadores (Spanish and Portuguese for liberators), the leaders of the Latin American wars of independence, so a literal translation of its former name into English is \"Liberators of the Americas Cup\".\\nThe competition has had several formats over its lifetime. Initially, only the champions of the South American leagues participated. In 1966, the runners-up of the South American leagues began to join. In 1998, Mexican teams were invited to compete and contested regularly from 2000 until 2016. In 2000 the tournament was expanded from 20 to 32 teams. Today at least four clubs per country compete in the tournament, with Argentina and Brazil having the most representatives (six and seven clubs, respectively). A group stage has always been used but the number of teams per group has varied.\\nIn the present format, the tournament consists of eight stages, with the first stage taking place in late January. The four surviving teams from the first three stages join 28 teams in the group stage, which consists of eight groups of four teams each. The eight group winners and eight runners-up enter the knockout stages, which end with the final in November. The winner of the Copa Libertadores becomes eligible to play in the FIFA Club World Cup, FIFA Intercontinental Cup and the Recopa Sudamericana.\\nIndependiente of Argentina is the most successful club in the cup\\'s history, having won the tournament seven times. Argentine clubs have accumulated the most victories with 25 wins, while Brazil has the largest number of winning teams, with 12 clubs having won the title. The cup has been won by 27 clubs, 15 of them have done it more than once, and seven clubs have won two years in a row.\\n\\nPage: List of Copa Libertadores finals\\nSummary: The Copa Libertadores is a seasonal association football competition that was established in 1960. It begins in mid-January and ends with the final in November of the same year. The Copa Libertadores is open to the league champions of CONMEBOL member associations; clubs finishing from second to fourth position in the stronger leagues of the region, such as the Brazilian league, are also included. Originally, only the champions of their respective national league could participate in the competition. However, in 1966 this was changed to allow the runners-up of the leagues to compete. Until 2018, the final was contested over two legs, one at each participating club\\'s stadium. From 2019, the format was changed, with the final being a single game played at a predetermined venue. \\nThe data below does not include the 1948 South American Championship of Champions, as it is not listed by CONMEBOL either as a Libertadores edition or an official competition. It must be pointed out, however, that at least in the years 1996 and 1997, CONMEBOL entitled equal status to both the Copa Libertadores and the 1948 tournament, in that the 1948 champions (Vasco da Gama) were allowed to participate in the Supercopa Libertadores, a CONMEBOL official competition that allowed participation for former Libertadores champions only (for example, not admitting participation for champions of other CONMEBOL official competitions, such as the Copa CONMEBOL).  \\nIndependiente hold the record for the most victories, with seven wins since the competition\\'s inception. They have also won the competition the most times consecutively, winning four in a row from 1972 to 1975. Boca Juniors are second with six wins; they won their last title in 2007. Peñarol are third with five wins, the most recent being in 1987. Boca Juniors have lost the most finals, having lost on six occasions. Overall, 27 clubs have won the competition' name='wikipedia_search' tool_call_id='8ce4b96d-306b-44b5-8708-6e6c789d7ddb'\n"
     ]
    }
   ],
   "source": [
    "for a in answers:\n",
    "    print(a)\n",
    "    # print(textwrap.fill(a.content))"
   ]
  }
 ],
 "metadata": {
  "kernelspec": {
   "display_name": "langchain",
   "language": "python",
   "name": "python3"
  },
  "language_info": {
   "codemirror_mode": {
    "name": "ipython",
    "version": 3
   },
   "file_extension": ".py",
   "mimetype": "text/x-python",
   "name": "python",
   "nbconvert_exporter": "python",
   "pygments_lexer": "ipython3",
   "version": "3.10.15"
  }
 },
 "nbformat": 4,
 "nbformat_minor": 2
}
