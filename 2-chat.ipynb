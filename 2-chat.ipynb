{
 "cells": [
  {
   "cell_type": "code",
   "execution_count": 1,
   "metadata": {},
   "outputs": [],
   "source": [
    "from langchain_ollama import ChatOllama\n",
    "\n",
    "base_url = \"http://localhost:11434\"\n",
    "model = \"phi3\"\n",
    "\n",
    "llm = ChatOllama(base_url=base_url,\n",
    "                 model=model,\n",
    "                 temperature=0.5,\n",
    "                 num_predict=256\n",
    "                 )"
   ]
  },
  {
   "cell_type": "code",
   "execution_count": 3,
   "metadata": {},
   "outputs": [],
   "source": [
    "response = llm.invoke('hi')"
   ]
  },
  {
   "cell_type": "code",
   "execution_count": 4,
   "metadata": {},
   "outputs": [
    {
     "name": "stdout",
     "output_type": "stream",
     "text": [
      "Hello! How can I help you today? If there's anything specific you need assistance with, feel free to let me know.\n",
      "{'input_tokens': 10, 'output_tokens': 28, 'total_tokens': 38}\n"
     ]
    }
   ],
   "source": [
    "print(response.content)\n",
    "print(response.usage_metadata)"
   ]
  },
  {
   "cell_type": "code",
   "execution_count": 5,
   "metadata": {},
   "outputs": [
    {
     "name": "stdout",
     "output_type": "stream",
     "text": [
      "Starting to learn how to code, especially with Python, is an exciting journey that opens up a world of possibilities. Here's a step-bythoughtful guide to help you embark on this adventure:\n",
      "\n",
      "### Step 1: Familiarize Yourself With Computer Basics (Optional)\n",
      "Before diving into coding, it might be helpful for beginners to have some basic understanding of computer concepts such as operating systems, file management, and the internet. This knowledge can ease your transition into programming languages like Python. However, this is not a strict requirement; many resources exist that teach these basics along with Python itself!\n",
      "\n",
      "### Step 2: Set Up Your Development Environment\n",
      "Python needs no special software to run on most modern computers (Windows, macOS, Linux). You can download and install the latest version of Python from python.org/downloads/. It's also recommended to set up a text editor or Integrated Development Environment (IDE) for writing your code more efficiently:\n",
      "- **Text Editors** like Sublime Text, Atom, or Visual Studio Code are lightweight but powerful options. Look into their Python plugins if available!\n",
      "- **IDEs** such as PyCharm\n"
     ]
    }
   ],
   "source": [
    "response = \"\"\n",
    "\n",
    "for chunk in llm.stream('how to start to code in python?'):\n",
    "    response += chunk.content\n",
    "\n",
    "print(response) "
   ]
  }
 ],
 "metadata": {
  "kernelspec": {
   "display_name": "langchain",
   "language": "python",
   "name": "python3"
  },
  "language_info": {
   "codemirror_mode": {
    "name": "ipython",
    "version": 3
   },
   "file_extension": ".py",
   "mimetype": "text/x-python",
   "name": "python",
   "nbconvert_exporter": "python",
   "pygments_lexer": "ipython3",
   "version": "3.10.15"
  }
 },
 "nbformat": 4,
 "nbformat_minor": 2
}
