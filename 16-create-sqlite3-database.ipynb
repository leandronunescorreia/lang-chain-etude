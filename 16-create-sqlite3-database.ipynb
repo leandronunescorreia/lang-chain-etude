{
 "cells": [
  {
   "cell_type": "code",
   "execution_count": 1,
   "metadata": {},
   "outputs": [],
   "source": [
    "import sqlite3\n",
    "\n",
    "# Create a connection to the SQLite database\n",
    "conn = sqlite3.connect('data/employees.db')"
   ]
  },
  {
   "cell_type": "code",
   "execution_count": 2,
   "metadata": {},
   "outputs": [],
   "source": [
    "# Create a cursor object\n",
    "cursor = conn.cursor()"
   ]
  },
  {
   "cell_type": "code",
   "execution_count": 3,
   "metadata": {},
   "outputs": [],
   "source": [
    "# SQL statements to create tables\n",
    "create_tables = \"\"\"\n",
    "CREATE TABLE IF NOT EXISTS departments (\n",
    "    id INTEGER PRIMARY KEY,\n",
    "    name TEXT NOT NULL\n",
    ");\n",
    "\n",
    "CREATE TABLE IF NOT EXISTS dept_emp (\n",
    "    dept_id INTEGER,\n",
    "    employee_id INTEGER,\n",
    "    FOREIGN KEY (dept_id) REFERENCES departments (id),\n",
    "    PRIMARY KEY (dept_id, employee_id)\n",
    ");\n",
    "\n",
    "CREATE TABLE IF NOT EXISTS dept_manager (\n",
    "    dept_id INTEGER,\n",
    "    employee_id INTEGER,\n",
    "    FOREIGN KEY (dept_id) REFERENCES departments (id),\n",
    "    PRIMARY KEY (dept_id, employee_id)\n",
    ");\n",
    "\n",
    "CREATE TABLE IF NOT EXISTS employees (\n",
    "    id INTEGER PRIMARY KEY,\n",
    "    birth_date DATE,\n",
    "    first_name TEXT NOT NULL,\n",
    "    last_name TEXT NOT NULL,\n",
    "    gender TEXT,\n",
    "    hire_date DATE\n",
    ");\n",
    "\n",
    "CREATE TABLE IF NOT EXISTS salaries (\n",
    "    id INTEGER PRIMARY KEY,\n",
    "    employee_id INTEGER,\n",
    "    value REAL NOT NULL,\n",
    "    start_date DATE,\n",
    "    end_date DATE,\n",
    "    FOREIGN KEY (employee_id) REFERENCES employees (id)\n",
    ");\n",
    "\n",
    "CREATE TABLE IF NOT EXISTS titles (\n",
    "    id INTEGER PRIMARY KEY,\n",
    "    name TEXT NOT NULL\n",
    ");\n",
    "\"\"\"\n",
    "\n",
    "# Execute the create table statements\n",
    "cursor.executescript(create_tables)\n",
    "\n",
    "# Commit the changes\n",
    "conn.commit()"
   ]
  },
  {
   "cell_type": "code",
   "execution_count": 4,
   "metadata": {},
   "outputs": [],
   "source": [
    "# CRUD Operations\n",
    "\n",
    "# Create\n",
    "def add_employee(birth_date, first_name, last_name, gender, hire_date):\n",
    "    cursor.execute(\"INSERT INTO employees (birth_date, first_name, last_name, gender, hire_date) VALUES (?, ?, ?, ?, ?)\",\n",
    "                   (birth_date, first_name, last_name, gender, hire_date))\n",
    "    conn.commit()\n",
    "\n",
    "# Read\n",
    "def get_employees():\n",
    "    cursor.execute(\"SELECT * FROM employees\")\n",
    "    return cursor.fetchall()\n",
    "\n",
    "# Update\n",
    "def update_employee(employee_id, first_name=None, last_name=None, gender=None):\n",
    "    if first_name:\n",
    "        cursor.execute(\"UPDATE employees SET first_name = ? WHERE id = ?\", (first_name, employee_id))\n",
    "    if last_name:\n",
    "        cursor.execute(\"UPDATE employees SET last_name = ? WHERE id = ?\", (last_name, employee_id))\n",
    "    if gender:\n",
    "        cursor.execute(\"UPDATE employees SET gender = ? WHERE id = ?\", (gender, employee_id))\n",
    "    conn.commit()\n",
    "\n",
    "# Delete\n",
    "def delete_employee(employee_id):\n",
    "    cursor.execute(\"DELETE FROM employees WHERE id = ?\", (employee_id,))\n",
    "    conn.commit()"
   ]
  },
  {
   "cell_type": "code",
   "execution_count": 5,
   "metadata": {},
   "outputs": [
    {
     "name": "stdout",
     "output_type": "stream",
     "text": [
      "[(1, '1990-01-01', 'John', 'Doe', 'M', '2020-01-01')]\n"
     ]
    }
   ],
   "source": [
    "# Example usage\n",
    "add_employee('1990-01-01', 'John', 'Doe', 'M', '2020-01-01')\n",
    "print(get_employees())"
   ]
  },
  {
   "cell_type": "code",
   "execution_count": 9,
   "metadata": {},
   "outputs": [
    {
     "name": "stdout",
     "output_type": "stream",
     "text": [
      "[(1, '1990-01-01', 'Jane', 'Doe', 'M', '2020-01-01')]\n"
     ]
    }
   ],
   "source": [
    "update_employee(1, first_name='Jane')\n",
    "print(get_employees())"
   ]
  },
  {
   "cell_type": "code",
   "execution_count": 10,
   "metadata": {},
   "outputs": [
    {
     "name": "stdout",
     "output_type": "stream",
     "text": [
      "[]\n"
     ]
    }
   ],
   "source": [
    "delete_employee(1)\n",
    "print(get_employees())"
   ]
  },
  {
   "cell_type": "code",
   "execution_count": 6,
   "metadata": {},
   "outputs": [],
   "source": [
    "# Close the connection\n",
    "conn.close()"
   ]
  }
 ],
 "metadata": {
  "kernelspec": {
   "display_name": "langchain",
   "language": "python",
   "name": "python3"
  },
  "language_info": {
   "codemirror_mode": {
    "name": "ipython",
    "version": 3
   },
   "file_extension": ".py",
   "mimetype": "text/x-python",
   "name": "python",
   "nbconvert_exporter": "python",
   "pygments_lexer": "ipython3",
   "version": "3.10.15"
  }
 },
 "nbformat": 4,
 "nbformat_minor": 2
}
