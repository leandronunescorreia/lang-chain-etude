{
 "cells": [
  {
   "cell_type": "code",
   "execution_count": 30,
   "metadata": {},
   "outputs": [],
   "source": [
    "from langchain.document_loaders import PyPDFLoader\n",
    "\n",
    "from langchain.text_splitter import CharacterTextSplitter\n",
    "from langchain.llms import Ollama\n",
    "from langchain.embeddings.ollama import OllamaEmbeddings\n",
    "from langchain.vectorstores import FAISS\n",
    "from langchain.chains.question_answering import load_qa_chain\n",
    "from langchain.llms import OpenAI\n",
    "import textwrap\n",
    "import time\n"
   ]
  },
  {
   "cell_type": "code",
   "execution_count": 25,
   "metadata": {},
   "outputs": [],
   "source": [
    "model_name ='phi3'"
   ]
  },
  {
   "cell_type": "code",
   "execution_count": 4,
   "metadata": {},
   "outputs": [
    {
     "data": {
      "text/plain": [
       "15"
      ]
     },
     "execution_count": 4,
     "metadata": {},
     "output_type": "execute_result"
    }
   ],
   "source": [
    "loader = PyPDFLoader(\"docs\\\\gym supplements\\\\1. Analysis of Actual Fitness Supplement.pdf\") \n",
    "docs = loader.load()\n",
    "len(docs)"
   ]
  },
  {
   "cell_type": "code",
   "execution_count": 5,
   "metadata": {},
   "outputs": [
    {
     "data": {
      "text/plain": [
       "58287"
      ]
     },
     "execution_count": 5,
     "metadata": {},
     "output_type": "execute_result"
    }
   ],
   "source": [
    "def format_text(docs):\n",
    "    return '\\n\\n'.join([x.page_content for x in docs])\n",
    "\n",
    "context = format_text(docs)\n",
    "len(context)"
   ]
  },
  {
   "cell_type": "code",
   "execution_count": 6,
   "metadata": {},
   "outputs": [
    {
     "name": "stdout",
     "output_type": "stream",
     "text": [
      "Citation: Espeño, P .R.; Ong, A.K.S.;\n",
      "German, J.D.; Gumasing, M.J.J.; Casas,\n",
      "E.S. Analysis of Actual\n"
     ]
    }
   ],
   "source": [
    "print(context[0:100])"
   ]
  },
  {
   "cell_type": "code",
   "execution_count": 15,
   "metadata": {},
   "outputs": [
    {
     "data": {
      "text/plain": [
       "152"
      ]
     },
     "execution_count": 15,
     "metadata": {},
     "output_type": "execute_result"
    }
   ],
   "source": [
    "text_splitter = CharacterTextSplitter(\n",
    "    separator=\"\\n\", chunk_size=512, chunk_overlap=100, length_function=len\n",
    ")\n",
    "chunks = text_splitter.split_text(context)\n",
    "len(chunks)"
   ]
  },
  {
   "cell_type": "code",
   "execution_count": null,
   "metadata": {},
   "outputs": [],
   "source": [
    "embeddings = OllamaEmbeddings(\n",
    "    model=model_name,\n",
    ")\n",
    "knowledge_base = FAISS.from_texts(chunks, embeddings)"
   ]
  },
  {
   "cell_type": "code",
   "execution_count": 26,
   "metadata": {},
   "outputs": [
    {
     "data": {
      "text/plain": [
       "Ollama(model='phi3', num_predict=256, temperature=0.1)"
      ]
     },
     "execution_count": 26,
     "metadata": {},
     "output_type": "execute_result"
    }
   ],
   "source": [
    "user_question = \"talk about Supplementary drinks\"\n",
    "docs = knowledge_base.similarity_search(user_question)\n",
    "\n",
    "base_url = \"http://localhost:11434\"\n",
    "\n",
    "llm = Ollama(base_url=base_url,\n",
    "                 model=model_name,\n",
    "                 temperature=0.1,\n",
    "                 num_predict=256\n",
    "                 )\n",
    "llm"
   ]
  },
  {
   "cell_type": "code",
   "execution_count": 27,
   "metadata": {},
   "outputs": [],
   "source": [
    "chain = load_qa_chain(llm, chain_type=\"stuff\")\n",
    "response = chain.run(input_documents=docs, question=user_question)"
   ]
  },
  {
   "cell_type": "code",
   "execution_count": 31,
   "metadata": {},
   "outputs": [
    {
     "data": {
      "text/plain": [
       "['The provided context does not directly mention supplementary drinks or',\n",
       " 'provide specific information regarding them within the studies cited',\n",
       " '(Bhandari, Pinho et al., and Lino et al.). The focus of these pieces',\n",
       " 'seems to be on vitamin D supplementation intention among farmers using',\n",
       " 'pesticides as a safety behavior. Additionally, there is mention of',\n",
       " 'healthy eating behaviors influenced by perceived barriers in the',\n",
       " 'context provided by Pinho et al.  However, if we were to infer based',\n",
       " 'on similar frameworks like TPB (Theory of Planned Behavior), HBM',\n",
       " '(Health Belief Model), and TEMPA (Towards Exercise Motivation through',\n",
       " 'Physical Activity) that are used in the studies mentioned:   1. In a',\n",
       " 'hypothetical study about supplementary drinks, perceived barriers',\n",
       " \"could negatively affect individuals' intentions to consume these\",\n",
       " 'beverages regularly as they might consider them unnecessary or',\n",
       " 'unhealthy if not properly educated on their benefits and appropriate',\n",
       " 'use (similarly discussed in the context of pesticide safety',\n",
       " 'behaviors).     2. Educational programs, training sessions, and clear',\n",
       " 'communication about health implications could mitigate these']"
      ]
     },
     "execution_count": 31,
     "metadata": {},
     "output_type": "execute_result"
    }
   ],
   "source": [
    "textwrap.wrap(response)"
   ]
  }
 ],
 "metadata": {
  "kernelspec": {
   "display_name": "langchain",
   "language": "python",
   "name": "python3"
  },
  "language_info": {
   "codemirror_mode": {
    "name": "ipython",
    "version": 3
   },
   "file_extension": ".py",
   "mimetype": "text/x-python",
   "name": "python",
   "nbconvert_exporter": "python",
   "pygments_lexer": "ipython3",
   "version": "3.10.15"
  }
 },
 "nbformat": 4,
 "nbformat_minor": 2
}
