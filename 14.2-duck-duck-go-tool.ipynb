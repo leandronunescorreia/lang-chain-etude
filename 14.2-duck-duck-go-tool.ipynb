{
 "cells": [
  {
   "cell_type": "code",
   "execution_count": 9,
   "metadata": {},
   "outputs": [],
   "source": [
    "from langchain_community.tools import DuckDuckGoSearchRun, DuckDuckGoSearchResults\n",
    "from langchain_community.utilities import DuckDuckGoSearchAPIWrapper"
   ]
  },
  {
   "cell_type": "code",
   "execution_count": null,
   "metadata": {},
   "outputs": [],
   "source": [
    "search = DuckDuckGoSearchRun()\n",
    "response = search.invoke(\"what is today's stock market news?\")\n",
    "response"
   ]
  },
  {
   "cell_type": "code",
   "execution_count": 7,
   "metadata": {},
   "outputs": [
    {
     "data": {
      "text/plain": [
       "[{'snippet': '\"There were some warning signs from Target, but if you look at personal income and retail sales, they have been strong all year,\" said Peter Cardillo, chief market economist at Spartan Capital Securities, in an interview. \"That suggests the consumer has buying power.\"',\n",
       "  'title': 'Stock Market Today: Dow scores best day since surge after U.S. election day',\n",
       "  'link': 'https://www.marketwatch.com/livecoverage/stock-market-today-dow-futures-steady-as-nvidia-earnings-damp-tech',\n",
       "  'date': '2024-11-21T22:08:00+00:00',\n",
       "  'source': 'MarketWatch'},\n",
       " {'snippet': \"U.S. stocks climbed Thursday after market superstar Nvidia and another round of companies said they're making even fatter profits than expected. The S&P 500 pulled 0.5% higher after flipping between gains and losses several times during the day.\",\n",
       "  'title': 'Stock market today: Wall Street rises with Nvidia as bitcoin bursts above $99,000',\n",
       "  'link': 'https://www.msn.com/en-us/money/markets/stock-market-today-global-shares-mostly-slip-despite-nvidia-s-solid-earnings-report/ar-AA1utemT',\n",
       "  'date': '2024-11-22T06:44:00+00:00',\n",
       "  'source': 'MSN'},\n",
       " {'snippet': \"Target's stock was down more than 20% in afternoon trading, compared with a 0.6% decline for the S&P 500 index, according to FactSet data, at last check. The S&P 500's consumer-staples sector was slumping 0.4% on Wednesday afternoon.\",\n",
       "  'title': \"Stock Market Today: Dow ends with first day of gains in five sessions; Nasdaq drops 0.1% ahead of Nvidia's earnings\",\n",
       "  'link': 'https://www.marketwatch.com/livecoverage/stock-market-today-dow-futures-climb-as-traders-await-nvidia-earnings',\n",
       "  'date': '2024-11-20T22:16:00+00:00',\n",
       "  'source': 'MarketWatch'},\n",
       " {'snippet': \"S&P's flash purchasing managers indexes for U.S. services and manufacturing are due at 9:45 a.m. ET. Economists expect the manufacturing PMI to remain in contraction. The Dow industrials had gained 1.1% Thursday, boosted by gains at Salesforce and IBM.\",\n",
       "  'title': 'Stock Market Today: Futures Hover; Bitcoin Price Tops $99,000',\n",
       "  'link': 'https://www.wsj.com/livecoverage/stock-market-today-dow-sp500-nasdaq-live-11-22-2024',\n",
       "  'date': '2024-11-22T08:24:00+00:00',\n",
       "  'source': 'Wall Street Journal'}]"
      ]
     },
     "execution_count": 7,
     "metadata": {},
     "output_type": "execute_result"
    }
   ],
   "source": [
    "search = DuckDuckGoSearchResults(\n",
    "        max_results=5,\n",
    "        output_format=\"list\",\n",
    "        backend=\"news\"\n",
    "    )\n",
    "\n",
    "response = search.invoke(\"what is today's stock market news?\")\n",
    "response"
   ]
  },
  {
   "cell_type": "code",
   "execution_count": 12,
   "metadata": {},
   "outputs": [
    {
     "data": {
      "text/plain": [
       "[{'snippet': \"Futures held steady in early trading Friday, while bitcoin traded above $99,000, continuing its recent vertiginous rise. The calendar for economic data and earnings is relatively light. S&P's ...\",\n",
       "  'title': 'Stock Market Today: What to Watch--Live Updates - The Wall Street Journal',\n",
       "  'link': 'https://www.wsj.com/livecoverage/stock-market-today-dow-sp500-nasdaq-live-11-22-2024'},\n",
       " {'snippet': 'The Dow Jones Industrial Average jumped by almost 500 points, and the S&P 500, while the Nasdaq traded nearly flat as several mega-cap tech names struggled throughout the day.',\n",
       "  'title': 'Stock market today: Dow soars 461 points while Nasdaq wavers as tech ...',\n",
       "  'link': 'https://finance.yahoo.com/news/stock-market-today-dow-soars-051934529.html'},\n",
       " {'snippet': 'Stock Market News: Dow Set to Open Down to End a Volatile Week S&P 500 and Nasdaq futures are falling in premarket trading Friday.',\n",
       "  'title': \"Stock Market Today: Dow, S&P 500 Futures Falling ... - Barron's\",\n",
       "  'link': 'https://www.barrons.com/livecoverage/stock-market-today-112224'},\n",
       " {'snippet': \"The video embedded in this article reviews Thursday's stock market action and analyzes Amphenol, Deckers and TechnipFMC stock. Dow Jones Futures Today Dow Jones futures gave up 0.2% vs. fair value.\",\n",
       "  'title': 'Dow Jones Futures Fall After Bulls Run; 7 Stocks In Buy Zones ...',\n",
       "  'link': 'https://www.investors.com/market-trend/stock-market-today/dow-jones-futures-bulls-run-google-stocks-buy-zones-microstrategy/'}]"
      ]
     },
     "execution_count": 12,
     "metadata": {},
     "output_type": "execute_result"
    }
   ],
   "source": [
    "wrapper = DuckDuckGoSearchAPIWrapper(region=\"pt-br\", time=\"d\", max_results=2)\n",
    "\n",
    "search = DuckDuckGoSearchResults(\n",
    "        max_results=5,\n",
    "        output_format=\"list\",\n",
    "        api_wrapper=wrapper,\n",
    "        source=\"news\"\n",
    "    )\n",
    "\n",
    "response = search.invoke(\"what is today's stock market news?\")\n",
    "response"
   ]
  }
 ],
 "metadata": {
  "kernelspec": {
   "display_name": "langchain",
   "language": "python",
   "name": "python3"
  },
  "language_info": {
   "codemirror_mode": {
    "name": "ipython",
    "version": 3
   },
   "file_extension": ".py",
   "mimetype": "text/x-python",
   "name": "python",
   "nbconvert_exporter": "python",
   "pygments_lexer": "ipython3",
   "version": "3.10.15"
  }
 },
 "nbformat": 4,
 "nbformat_minor": 2
}
