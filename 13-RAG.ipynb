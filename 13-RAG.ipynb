{
 "cells": [
  {
   "cell_type": "code",
   "execution_count": 21,
   "metadata": {},
   "outputs": [],
   "source": [
    "import os\n",
    "import warnings\n",
    "import textwrap\n",
    "os.environ['KPM_DUPLICATE_LIB_OK'] = 'True'\n",
    "warnings.filterwarnings('ignore')"
   ]
  },
  {
   "cell_type": "code",
   "execution_count": 3,
   "metadata": {},
   "outputs": [],
   "source": [
    "from langchain_ollama import OllamaEmbeddings\n",
    "import faiss\n",
    "from langchain_community.vectorstores import FAISS\n",
    "from langchain_community.docstore.in_memory import InMemoryDocstore\n",
    "from langchain.document_loaders import PyPDFLoader\n",
    "from langchain_text_splitters import RecursiveCharacterTextSplitter\n",
    "\n",
    "import tiktoken"
   ]
  },
  {
   "cell_type": "code",
   "execution_count": 4,
   "metadata": {},
   "outputs": [],
   "source": [
    "base_url = \"http://localhost:11434\"\n",
    "model_name = 'nomic-embed-text'\n",
    "\n",
    "embeddings = OllamaEmbeddings(model='phi3', base_url=base_url)"
   ]
  },
  {
   "cell_type": "code",
   "execution_count": 5,
   "metadata": {},
   "outputs": [],
   "source": [
    "db_name = 'docs/health supplements/'\n",
    "vector_store = FAISS.load_local(folder_path=db_name, embeddings=embeddings, allow_dangerous_deserialization=True)"
   ]
  },
  {
   "cell_type": "code",
   "execution_count": 6,
   "metadata": {},
   "outputs": [],
   "source": [
    "question = 'how to gain muscle mass?'\n",
    "docs = vector_store.search(query=question, k=5, search_type='similarity')"
   ]
  },
  {
   "cell_type": "code",
   "execution_count": 7,
   "metadata": {},
   "outputs": [
    {
     "name": "stdout",
     "output_type": "stream",
     "text": [
      "page:  6\n",
      "supplements is currently around 20%. Furthermore, bodybuilding and weight loss \n",
      "supplements account for almost half of these injuries (62). Among emergency department \n",
      "visits for adverse events related to dietary supplements in the US, around 25% were due to \n",
      "weight loss products (63). There are two classes of adverse effects that may occur. \n",
      "Supplements can have components according to the product description that cause certain \n",
      "side effects. Supplements may also be intentionally spiked with unlisted or illegal \n",
      "compounds, or drugs such as anabolic steroids. These are so-called adulterated supplements. \n",
      "Supplements containing declared compounds that have not been adequately tested for safety \n",
      "can also be declared adulterated by the US Food and Drug Administration (FDA). It has \n",
      "been argued that adulterated supplements shouldn’t be considered real dietary supplements \n",
      "(64). Yet, such supplements exist and can readily be obtained e.g. over the internet.\n",
      "\n",
      "\n",
      "page:  8\n",
      "compounds, DMAA and aegeline. There is even a recent notification from the FDA that a \n",
      "batch of OxyELITE Pro Super Thermogenic was found to contain fluoxetine, also known as \n",
      "Prozac (95). While USPlabs, LLC has claimed that this latter batch represented a counterfeit \n",
      "product not manufactured by the company, it certainly underscores that segments of the \n",
      "dietary supplement business employ shady or even criminal manufacturing and business \n",
      "practices that result in consumers being exposed to untested or undeclared compounds.\n",
      "OxyELITE Pro is not the only multi-ingredient dietary supplement associated with liver \n",
      "injury. The LiverTox database lists incidences of hepatotoxicity attributed to the brands \n",
      "Slimquick, Herbalife, Hydroxycut and Move Free (67). Earlier versions of Hydroxycut \n",
      "contained ephedra, but otherwise the exact mechanisms of injury are generally unknown, \n",
      "even though some of the cases may be due to the content of green tea, Aloe vera, and \n",
      "Chinese skullcap.\n",
      "\n",
      "\n",
      "page:  8\n",
      "Chinese skullcap.\n",
      "The examples listed above represent adverse effects caused by ingredients listed by the \n",
      "producers. More insidious is the addition of unlisted ingredients or drugs to dietary \n",
      "supplements. Anti-obesity drugs rimonabant, orlistat, and sibutramine or analogues thereof \n",
      "have been found in weight-loss supplements from Germany, Turkey, China, and Poland (96). \n",
      "Side effects of these drugs, like panic attacks, psychotic episodes, and increases in blood \n",
      "pressure and heart rate in the case of sibutramine may therefore also be encountered in \n",
      "individuals using such adulterated supplements.\n",
      "Body-building supplements are quite often adulterated with anabolic steroids that are \n",
      "modified variants of androgens designed to increase muscle mass. Studies from 2001 and \n",
      "Ronis et al. Page 9\n",
      "Annu Rev Pharmacol Toxicol. Author manuscript; available in PMC 2019 February 19.\n",
      "Author Manuscript Author Manuscript Author Manuscript Author Manuscript\n",
      "\n",
      "\n",
      "page:  2\n",
      "increased risk of lung cancer. The ABTC study further showed that prostate cancer incidence \n",
      "and mortality were increased in male alcohol users consuming the supplement. An \n",
      "Ronis et al. Page 3\n",
      "Annu Rev Pharmacol Toxicol. Author manuscript; available in PMC 2019 February 19.\n",
      "Author Manuscript Author Manuscript Author Manuscript Author Manuscript\n",
      "\n",
      "\n",
      "page:  10\n",
      "difficult to elucidate mechanisms, although the authors of the above case study speculated \n",
      "that black cohosh regulates heart rate via activation of serotonin receptors, consistent with \n",
      "experimental results (117). Both garlic and ginkgo biloba use have been involved in several \n",
      "cases of excessive bleeding. For example, a 71 year-old man had persistent surgical bleeding \n",
      "that was attributed to indulgent garlic ingestion prior to the operation (118). Furthermore, \n",
      "aged garlic extract inhibits platelet aggregation (119). Gingkolide B, an active component of \n",
      "gingko biloba, has been shown to inhibit platelet aggregating factor, and men and women \n",
      "taking ginkgo biloba have suffered spontaneous bleeding (120).\n",
      "Compared to the above outcomes, more is known about potential herb-drug interactions. \n",
      "Pharmacologically active compounds in botanicals are, like drugs, substrates of \n",
      "metabolizing enzymes. As such, induction or suppression of relevant metabolizing enzymes\n",
      "\n",
      "\n"
     ]
    }
   ],
   "source": [
    "for a in docs:\n",
    "    print('page: ', a.metadata.get('page'))\n",
    "    print(a.page_content)\n",
    "    print('\\n')"
   ]
  },
  {
   "cell_type": "code",
   "execution_count": 9,
   "metadata": {},
   "outputs": [],
   "source": [
    "retriever = vector_store.as_retriever(search_type='similarity', search_kwargs = {'k':3, 'fetch_k':20, 'score_threshold': 0.8, 'lambda_multi':1})\n",
    "answer = retriever.invoke(question)"
   ]
  },
  {
   "cell_type": "code",
   "execution_count": 10,
   "metadata": {},
   "outputs": [
    {
     "data": {
      "text/plain": [
       "[Document(metadata={'source': 'docs\\\\health supplements\\\\3.health_supplements_side_effects.pdf', 'page': 6}, page_content='supplements is currently around 20%. Furthermore, bodybuilding and weight loss \\nsupplements account for almost half of these injuries (62). Among emergency department \\nvisits for adverse events related to dietary supplements in the US, around 25% were due to \\nweight loss products (63). There are two classes of adverse effects that may occur. \\nSupplements can have components according to the product description that cause certain \\nside effects. Supplements may also be intentionally spiked with unlisted or illegal \\ncompounds, or drugs such as anabolic steroids. These are so-called adulterated supplements. \\nSupplements containing declared compounds that have not been adequately tested for safety \\ncan also be declared adulterated by the US Food and Drug Administration (FDA). It has \\nbeen argued that adulterated supplements shouldn’t be considered real dietary supplements \\n(64). Yet, such supplements exist and can readily be obtained e.g. over the internet.'),\n",
       " Document(metadata={'source': 'docs\\\\health supplements\\\\3.health_supplements_side_effects.pdf', 'page': 8}, page_content='compounds, DMAA and aegeline. There is even a recent notification from the FDA that a \\nbatch of OxyELITE Pro Super Thermogenic was found to contain fluoxetine, also known as \\nProzac (95). While USPlabs, LLC has claimed that this latter batch represented a counterfeit \\nproduct not manufactured by the company, it certainly underscores that segments of the \\ndietary supplement business employ shady or even criminal manufacturing and business \\npractices that result in consumers being exposed to untested or undeclared compounds.\\nOxyELITE Pro is not the only multi-ingredient dietary supplement associated with liver \\ninjury. The LiverTox database lists incidences of hepatotoxicity attributed to the brands \\nSlimquick, Herbalife, Hydroxycut and Move Free (67). Earlier versions of Hydroxycut \\ncontained ephedra, but otherwise the exact mechanisms of injury are generally unknown, \\neven though some of the cases may be due to the content of green tea, Aloe vera, and \\nChinese skullcap.'),\n",
       " Document(metadata={'source': 'docs\\\\health supplements\\\\3.health_supplements_side_effects.pdf', 'page': 8}, page_content='Chinese skullcap.\\nThe examples listed above represent adverse effects caused by ingredients listed by the \\nproducers. More insidious is the addition of unlisted ingredients or drugs to dietary \\nsupplements. Anti-obesity drugs rimonabant, orlistat, and sibutramine or analogues thereof \\nhave been found in weight-loss supplements from Germany, Turkey, China, and Poland (96). \\nSide effects of these drugs, like panic attacks, psychotic episodes, and increases in blood \\npressure and heart rate in the case of sibutramine may therefore also be encountered in \\nindividuals using such adulterated supplements.\\nBody-building supplements are quite often adulterated with anabolic steroids that are \\nmodified variants of androgens designed to increase muscle mass. Studies from 2001 and \\nRonis et al. Page 9\\nAnnu Rev Pharmacol Toxicol. Author manuscript; available in PMC 2019 February 19.\\nAuthor Manuscript Author Manuscript Author Manuscript Author Manuscript')]"
      ]
     },
     "execution_count": 10,
     "metadata": {},
     "output_type": "execute_result"
    }
   ],
   "source": [
    "answer"
   ]
  },
  {
   "cell_type": "code",
   "execution_count": 11,
   "metadata": {},
   "outputs": [
    {
     "name": "stdout",
     "output_type": "stream",
     "text": [
      "page:  6\n",
      "supplements is currently around 20%. Furthermore, bodybuilding and weight loss \n",
      "supplements account for almost half of these injuries (62). Among emergency department \n",
      "visits for adverse events related to dietary supplements in the US, around 25% were due to \n",
      "weight loss products (63). There are two classes of adverse effects that may occur. \n",
      "Supplements can have components according to the product description that cause certain \n",
      "side effects. Supplements may also be intentionally spiked with unlisted or illegal \n",
      "compounds, or drugs such as anabolic steroids. These are so-called adulterated supplements. \n",
      "Supplements containing declared compounds that have not been adequately tested for safety \n",
      "can also be declared adulterated by the US Food and Drug Administration (FDA). It has \n",
      "been argued that adulterated supplements shouldn’t be considered real dietary supplements \n",
      "(64). Yet, such supplements exist and can readily be obtained e.g. over the internet.\n",
      "\n",
      "\n",
      "page:  8\n",
      "compounds, DMAA and aegeline. There is even a recent notification from the FDA that a \n",
      "batch of OxyELITE Pro Super Thermogenic was found to contain fluoxetine, also known as \n",
      "Prozac (95). While USPlabs, LLC has claimed that this latter batch represented a counterfeit \n",
      "product not manufactured by the company, it certainly underscores that segments of the \n",
      "dietary supplement business employ shady or even criminal manufacturing and business \n",
      "practices that result in consumers being exposed to untested or undeclared compounds.\n",
      "OxyELITE Pro is not the only multi-ingredient dietary supplement associated with liver \n",
      "injury. The LiverTox database lists incidences of hepatotoxicity attributed to the brands \n",
      "Slimquick, Herbalife, Hydroxycut and Move Free (67). Earlier versions of Hydroxycut \n",
      "contained ephedra, but otherwise the exact mechanisms of injury are generally unknown, \n",
      "even though some of the cases may be due to the content of green tea, Aloe vera, and \n",
      "Chinese skullcap.\n",
      "\n",
      "\n",
      "page:  8\n",
      "Chinese skullcap.\n",
      "The examples listed above represent adverse effects caused by ingredients listed by the \n",
      "producers. More insidious is the addition of unlisted ingredients or drugs to dietary \n",
      "supplements. Anti-obesity drugs rimonabant, orlistat, and sibutramine or analogues thereof \n",
      "have been found in weight-loss supplements from Germany, Turkey, China, and Poland (96). \n",
      "Side effects of these drugs, like panic attacks, psychotic episodes, and increases in blood \n",
      "pressure and heart rate in the case of sibutramine may therefore also be encountered in \n",
      "individuals using such adulterated supplements.\n",
      "Body-building supplements are quite often adulterated with anabolic steroids that are \n",
      "modified variants of androgens designed to increase muscle mass. Studies from 2001 and \n",
      "Ronis et al. Page 9\n",
      "Annu Rev Pharmacol Toxicol. Author manuscript; available in PMC 2019 February 19.\n",
      "Author Manuscript Author Manuscript Author Manuscript Author Manuscript\n",
      "\n",
      "\n"
     ]
    }
   ],
   "source": [
    "for a in answer:\n",
    "    print('page: ', a.metadata.get('page'))\n",
    "    print(a.page_content)\n",
    "    print('\\n')"
   ]
  },
  {
   "cell_type": "code",
   "execution_count": 12,
   "metadata": {},
   "outputs": [
    {
     "name": "stdout",
     "output_type": "stream",
     "text": [
      "page:  6\n",
      "supplements is currently around 20%. Furthermore, bodybuilding and weight loss \n",
      "supplements account for almost half of these injuries (62). Among emergency department \n",
      "visits for adverse events related to dietary supplements in the US, around 25% were due to \n",
      "weight loss products (63). There are two classes of adverse effects that may occur. \n",
      "Supplements can have components according to the product description that cause certain \n",
      "side effects. Supplements may also be intentionally spiked with unlisted or illegal \n",
      "compounds, or drugs such as anabolic steroids. These are so-called adulterated supplements. \n",
      "Supplements containing declared compounds that have not been adequately tested for safety \n",
      "can also be declared adulterated by the US Food and Drug Administration (FDA). It has \n",
      "been argued that adulterated supplements shouldn’t be considered real dietary supplements \n",
      "(64). Yet, such supplements exist and can readily be obtained e.g. over the internet.\n",
      "\n",
      "\n",
      "page:  8\n",
      "compounds, DMAA and aegeline. There is even a recent notification from the FDA that a \n",
      "batch of OxyELITE Pro Super Thermogenic was found to contain fluoxetine, also known as \n",
      "Prozac (95). While USPlabs, LLC has claimed that this latter batch represented a counterfeit \n",
      "product not manufactured by the company, it certainly underscores that segments of the \n",
      "dietary supplement business employ shady or even criminal manufacturing and business \n",
      "practices that result in consumers being exposed to untested or undeclared compounds.\n",
      "OxyELITE Pro is not the only multi-ingredient dietary supplement associated with liver \n",
      "injury. The LiverTox database lists incidences of hepatotoxicity attributed to the brands \n",
      "Slimquick, Herbalife, Hydroxycut and Move Free (67). Earlier versions of Hydroxycut \n",
      "contained ephedra, but otherwise the exact mechanisms of injury are generally unknown, \n",
      "even though some of the cases may be due to the content of green tea, Aloe vera, and \n",
      "Chinese skullcap.\n",
      "\n",
      "\n",
      "page:  8\n",
      "Chinese skullcap.\n",
      "The examples listed above represent adverse effects caused by ingredients listed by the \n",
      "producers. More insidious is the addition of unlisted ingredients or drugs to dietary \n",
      "supplements. Anti-obesity drugs rimonabant, orlistat, and sibutramine or analogues thereof \n",
      "have been found in weight-loss supplements from Germany, Turkey, China, and Poland (96). \n",
      "Side effects of these drugs, like panic attacks, psychotic episodes, and increases in blood \n",
      "pressure and heart rate in the case of sibutramine may therefore also be encountered in \n",
      "individuals using such adulterated supplements.\n",
      "Body-building supplements are quite often adulterated with anabolic steroids that are \n",
      "modified variants of androgens designed to increase muscle mass. Studies from 2001 and \n",
      "Ronis et al. Page 9\n",
      "Annu Rev Pharmacol Toxicol. Author manuscript; available in PMC 2019 February 19.\n",
      "Author Manuscript Author Manuscript Author Manuscript Author Manuscript\n",
      "\n",
      "\n"
     ]
    }
   ],
   "source": [
    "answer = retriever.invoke('how to lose weight?')\n",
    "for a in answer:\n",
    "    print('page: ', a.metadata.get('page'))\n",
    "    print(a.page_content)\n",
    "    print('\\n')"
   ]
  },
  {
   "cell_type": "markdown",
   "metadata": {},
   "source": [
    "# RAG with llama on Ollama"
   ]
  },
  {
   "cell_type": "code",
   "execution_count": 13,
   "metadata": {},
   "outputs": [],
   "source": [
    "from langchain_ollama import ChatOllama\n",
    "from langchain_core.output_parsers import StrOutputParser\n",
    "from langchain_core.runnables import RunnablePassthrough\n",
    "from langchain_core.prompts import ChatPromptTemplate\n",
    "\n",
    "from langchain import hub"
   ]
  },
  {
   "cell_type": "code",
   "execution_count": 14,
   "metadata": {},
   "outputs": [
    {
     "data": {
      "text/plain": [
       "ChatPromptTemplate(input_variables=['context', 'question'], input_types={}, partial_variables={}, metadata={'lc_hub_owner': 'rlm', 'lc_hub_repo': 'rag-prompt', 'lc_hub_commit_hash': '50442af133e61576e74536c6556cefe1fac147cad032f4377b60c436e6cdcb6e'}, messages=[HumanMessagePromptTemplate(prompt=PromptTemplate(input_variables=['context', 'question'], input_types={}, partial_variables={}, template=\"You are an assistant for question-answering tasks. Use the following pieces of retrieved context to answer the question. If you don't know the answer, just say that you don't know. Use three sentences maximum and keep the answer concise.\\nQuestion: {question} \\nContext: {context} \\nAnswer:\"), additional_kwargs={})])"
      ]
     },
     "execution_count": 14,
     "metadata": {},
     "output_type": "execute_result"
    }
   ],
   "source": [
    "prompt = hub.pull('rlm/rag-prompt')\n",
    "prompt"
   ]
  },
  {
   "cell_type": "code",
   "execution_count": 39,
   "metadata": {},
   "outputs": [],
   "source": [
    "prompt = \"\"\"\n",
    "You are an assistant for question-answering tasks. Use the folloing pieces of retrieve context to answer the question.\n",
    "If you dont know the answer, just say I don't know.\n",
    "Use three sentences maximum and keep the answer concise.\n",
    "Answer in bullet points. Make sure your answer is relevant to the question and it is answered from the context only.\n",
    "Question: {question}\n",
    "Context: {context}\n",
    "Answer:\n",
    "\"\"\"\n",
    "\n",
    "prompt = ChatPromptTemplate.from_template(prompt)"
   ]
  },
  {
   "cell_type": "code",
   "execution_count": 40,
   "metadata": {},
   "outputs": [
    {
     "data": {
      "text/plain": [
       "AIMessage(content=\"Hello! How can I help you today? If you're just greeting, that's perfectly fine. Remember to always stay safe and take care of your well-being.\", additional_kwargs={}, response_metadata={'model': 'phi3', 'created_at': '2024-11-20T16:59:47.712872Z', 'message': {'role': 'assistant', 'content': ''}, 'done_reason': 'stop', 'done': True, 'total_duration': 663623500, 'load_duration': 12055800, 'prompt_eval_count': 10, 'prompt_eval_duration': 238070000, 'eval_count': 39, 'eval_duration': 412091000}, id='run-55f1ee08-f5dd-4e50-8be6-7c6b941f3133-0', usage_metadata={'input_tokens': 10, 'output_tokens': 39, 'total_tokens': 49})"
      ]
     },
     "execution_count": 40,
     "metadata": {},
     "output_type": "execute_result"
    }
   ],
   "source": [
    "llm = ChatOllama(model='phi3', base_url='http://localhost:11434')\n",
    "llm.invoke('hi')"
   ]
  },
  {
   "cell_type": "code",
   "execution_count": 41,
   "metadata": {},
   "outputs": [],
   "source": [
    "def format_docs(docs):\n",
    "    return \"\\n\\n\".join([doc.page_content for doc in docs])\n",
    "\n",
    "context = format_docs(answer)"
   ]
  },
  {
   "cell_type": "code",
   "execution_count": 42,
   "metadata": {},
   "outputs": [],
   "source": [
    "rag_chain = (\n",
    "    {\"context\": retriever | format_docs, \"question\": RunnablePassthrough()}\n",
    "    | prompt\n",
    "    | llm\n",
    "    | StrOutputParser()\n",
    ")"
   ]
  },
  {
   "cell_type": "code",
   "execution_count": 43,
   "metadata": {},
   "outputs": [],
   "source": [
    "question = 'how to lose weight?'\n",
    "response = rag_chain.invoke(question)"
   ]
  },
  {
   "cell_type": "code",
   "execution_count": 44,
   "metadata": {},
   "outputs": [
    {
     "data": {
      "text/plain": [
       "796"
      ]
     },
     "execution_count": 44,
     "metadata": {},
     "output_type": "execute_result"
    }
   ],
   "source": [
    "len(response)"
   ]
  },
  {
   "cell_type": "code",
   "execution_count": 45,
   "metadata": {},
   "outputs": [
    {
     "name": "stdout",
     "output_type": "stream",
     "text": [
      "- Adverse effects from dietary supplements can include liver injury and unexpected drug interactions, such as with anti-obesity drugs like sibutramine or rimonabant. These side effects might occur due to unintended components in adulterated products containing banned substances.\n",
      "- The FDA has found that some supplements contain illegal compounds intended for weight loss, such as fluoxetine (Prozac), which could lead to harmful psychological and physiological effects when used with dietary supplements marketed for bodybuilding or fat reduction.\n",
      "- Some brands of multi-ingredient supplements have been linked to serious health issues like liver damage, often attributed to undeclared drug contents such as sibutramine analogues in Hydroxycut products from earlier versions containing ephedra.\n"
     ]
    }
   ],
   "source": [
    "print(response)"
   ]
  },
  {
   "cell_type": "code",
   "execution_count": 46,
   "metadata": {},
   "outputs": [
    {
     "name": "stdout",
     "output_type": "stream",
     "text": [
      "- Use steroids under professional supervision to safely increase muscle mass while minimizing health risks. Avoid self-administration of anabolic steroids due to potential for severe side effects and legal issues, as they may result in adverse reactions similar to the use of anti-obesity drugs found in weight loss supplements (96).\n",
      "\n",
      "- Opt for natural bodybuilding methods such as proper nutrition rich in proteins, balanced diet with adequate calories and a well-designed exercise regimen. This approach can help achieve muscle growth without resorting to potentially harmful substances or practices often found in the supplement industry (96).\n"
     ]
    }
   ],
   "source": [
    "question = 'how to gain muscle mass?'\n",
    "response = rag_chain.invoke(question)\n",
    "print(response)"
   ]
  }
 ],
 "metadata": {
  "kernelspec": {
   "display_name": "langchain",
   "language": "python",
   "name": "python3"
  },
  "language_info": {
   "codemirror_mode": {
    "name": "ipython",
    "version": 3
   },
   "file_extension": ".py",
   "mimetype": "text/x-python",
   "name": "python",
   "nbconvert_exporter": "python",
   "pygments_lexer": "ipython3",
   "version": "3.10.15"
  }
 },
 "nbformat": 4,
 "nbformat_minor": 2
}
