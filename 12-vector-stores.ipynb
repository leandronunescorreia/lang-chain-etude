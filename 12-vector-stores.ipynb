{
 "cells": [
  {
   "cell_type": "code",
   "execution_count": null,
   "metadata": {},
   "outputs": [],
   "source": [
    "import os\n",
    "import warnings\n",
    "\n",
    "os.environ['KPM_DUPLICATE_LIB_OK'] = 'True'\n",
    "warnings.filterwarnings('ignore')"
   ]
  },
  {
   "cell_type": "code",
   "execution_count": 1,
   "metadata": {},
   "outputs": [
    {
     "data": {
      "text/plain": [
       "11"
      ]
     },
     "execution_count": 1,
     "metadata": {},
     "output_type": "execute_result"
    }
   ],
   "source": [
    "from langchain.document_loaders import PyPDFLoader\n",
    "\n",
    "loader = PyPDFLoader(\"docs\\\\health supplements\\\\3.health_supplements_side_effects.pdf\") \n",
    "docs = loader.load()\n",
    "len(docs)"
   ]
  },
  {
   "cell_type": "code",
   "execution_count": 2,
   "metadata": {},
   "outputs": [
    {
     "data": {
      "text/plain": [
       "52"
      ]
     },
     "execution_count": 2,
     "metadata": {},
     "output_type": "execute_result"
    }
   ],
   "source": [
    "from langchain_text_splitters import RecursiveCharacterTextSplitter\n",
    "\n",
    "text_sppliter = RecursiveCharacterTextSplitter(chunk_size=1000, chunk_overlap=100)\n",
    "chunks = text_sppliter.split_documents(docs)\n",
    "len(chunks)"
   ]
  },
  {
   "cell_type": "code",
   "execution_count": 3,
   "metadata": {},
   "outputs": [
    {
     "data": {
      "text/plain": [
       "200"
      ]
     },
     "execution_count": 3,
     "metadata": {},
     "output_type": "execute_result"
    }
   ],
   "source": [
    "import tiktoken\n",
    "\n",
    "encoding = tiktoken.encoding_for_model('gpt-4o-mini')\n",
    "len(encoding.encode(chunks[0].page_content))"
   ]
  },
  {
   "cell_type": "code",
   "execution_count": 5,
   "metadata": {},
   "outputs": [],
   "source": [
    "from langchain_ollama import OllamaEmbeddings\n",
    "import faiss\n",
    "from langchain_community.vectorstores import FAISS\n",
    "from langchain_community.docstore.in_memory import InMemoryDocstore"
   ]
  },
  {
   "cell_type": "code",
   "execution_count": null,
   "metadata": {},
   "outputs": [],
   "source": [
    "base_url = \"http://localhost:11434\"\n",
    "\n",
    "model_name = 'nomic-embed-text'\n",
    "\n",
    "embeddings = OllamaEmbeddings(model='phi3', base_url=base_url)"
   ]
  },
  {
   "cell_type": "code",
   "execution_count": 10,
   "metadata": {},
   "outputs": [
    {
     "data": {
      "text/plain": [
       "3072"
      ]
     },
     "execution_count": 10,
     "metadata": {},
     "output_type": "execute_result"
    }
   ],
   "source": [
    "vector = embeddings.embed_query('hello world')\n",
    "len(vector)"
   ]
  },
  {
   "cell_type": "code",
   "execution_count": 11,
   "metadata": {},
   "outputs": [
    {
     "data": {
      "text/plain": [
       "(0, 3072)"
      ]
     },
     "execution_count": 11,
     "metadata": {},
     "output_type": "execute_result"
    }
   ],
   "source": [
    "index = faiss.IndexFlatL2(len(vector))\n",
    "index.ntotal, index.d"
   ]
  },
  {
   "cell_type": "code",
   "execution_count": 12,
   "metadata": {},
   "outputs": [],
   "source": [
    "vector_store = FAISS(\n",
    "    embedding_function=embeddings,\n",
    "    index=index,\n",
    "    docstore=InMemoryDocstore(),\n",
    "    index_to_docstore_id={})"
   ]
  },
  {
   "cell_type": "code",
   "execution_count": 13,
   "metadata": {},
   "outputs": [
    {
     "data": {
      "text/plain": [
       "(0, 3072)"
      ]
     },
     "execution_count": 13,
     "metadata": {},
     "output_type": "execute_result"
    }
   ],
   "source": [
    "vector_store.index.ntotal, vector_store.index.d"
   ]
  },
  {
   "cell_type": "code",
   "execution_count": 14,
   "metadata": {},
   "outputs": [],
   "source": [
    "ids = vector_store.add_documents(documents=chunks)"
   ]
  },
  {
   "cell_type": "code",
   "execution_count": 16,
   "metadata": {},
   "outputs": [
    {
     "data": {
      "text/plain": [
       "(52, 52, 3072)"
      ]
     },
     "execution_count": 16,
     "metadata": {},
     "output_type": "execute_result"
    }
   ],
   "source": [
    "len(ids), vector_store.index.ntotal, vector_store.index.d"
   ]
  },
  {
   "cell_type": "code",
   "execution_count": 17,
   "metadata": {},
   "outputs": [
    {
     "data": {
      "text/plain": [
       "{0: 'd46146da-b041-4063-a7f0-19c155dbae8f',\n",
       " 1: '823ac91d-5df1-4de8-91d8-78a410bf1c3a',\n",
       " 2: 'cde06469-6797-4c77-8ab6-960eaffcfa61',\n",
       " 3: '6b302d39-ac75-455a-9f5f-bc92c0437df1',\n",
       " 4: '1bd9be02-f6e8-4b81-9900-d49749906dee',\n",
       " 5: 'ebb52402-b861-4be5-a73f-41b5f3ab3c03',\n",
       " 6: '69f66a01-8c10-4e49-9698-ee2ceb17c765',\n",
       " 7: 'f10c13ca-c71f-40c8-9613-e8065dccf74d',\n",
       " 8: '27e3a7fa-cce2-434e-8394-efa04df5b65f',\n",
       " 9: '088cf094-bfe9-4469-84d4-d828ff816b4a',\n",
       " 10: '846f9810-1089-4f4c-aeab-df7cd64180cd',\n",
       " 11: '07588485-2cb6-42a6-8b7f-580ec6a27f02',\n",
       " 12: 'be8a4357-efdc-4b97-b8d8-2db3b00fccae',\n",
       " 13: '7aa86453-93f1-4d05-a005-53f1796b5364',\n",
       " 14: 'd118f9ef-e8fa-4a56-8b42-daa2cfc7c433',\n",
       " 15: '92bcf56c-0ea1-48c3-82bd-6d49e77e74da',\n",
       " 16: '0b7bf9b7-3387-48d4-8f31-2955791f9d6f',\n",
       " 17: 'fa1abcc0-de1e-4550-a45d-ba1338c86a0d',\n",
       " 18: '086254c7-4210-4251-a179-c0b4a5f06999',\n",
       " 19: 'ac58da79-7c5a-422e-b3c2-84ba629bcbee',\n",
       " 20: '4f94e565-5bd5-46dc-a560-a85bf56f9aca',\n",
       " 21: '6fb52f8c-34cc-4bcc-8097-9e25da313efd',\n",
       " 22: 'd9f19f59-8077-4a84-bb2c-33d323b6060f',\n",
       " 23: '1b263420-476d-4e15-990b-0d58e2f329f9',\n",
       " 24: '201acf82-b3b5-4b6e-972a-d486ee59f865',\n",
       " 25: '1b1ce388-1ba4-4c4d-aa7c-9a68b7903e5a',\n",
       " 26: 'd8360adf-fb32-4acb-b8f0-4abdac8abe23',\n",
       " 27: 'd4019b3a-9396-4027-990a-d48e669b5c24',\n",
       " 28: '0dbe0b0d-e9d4-4f78-8a57-e5d2725a684a',\n",
       " 29: 'c054b89f-a455-4a5e-ae45-531c5c4c1f68',\n",
       " 30: 'a0a1e7d2-cdf9-4bb6-8f42-a4152316761a',\n",
       " 31: '42ce7206-3d26-4051-85c7-e5d83bc27259',\n",
       " 32: '9e707b41-a608-4e89-8fa8-4eb1d41343c0',\n",
       " 33: '819d7807-3ad8-44a2-8ece-56ce1bd5d2c3',\n",
       " 34: '6d4617d5-a007-4dcb-a961-0b8854bbf135',\n",
       " 35: 'd09ca03f-4188-414e-9b16-0c0538fcd616',\n",
       " 36: '3cc533ed-c3de-4b8a-98cd-9d27fd414e93',\n",
       " 37: '4680c199-ece0-4385-847a-98d63114b159',\n",
       " 38: '3c499811-4526-4e34-9650-4c4e6476c85b',\n",
       " 39: 'de12f8c3-2500-4328-b76b-d93e964d7edf',\n",
       " 40: '56e44e47-9e6b-48a8-95fd-bd8cde3130f8',\n",
       " 41: '241eb23d-773c-4250-bbc8-ae0f70ade962',\n",
       " 42: '526eac1c-734c-4e4f-907c-61f5b63953d4',\n",
       " 43: '0da3024c-57b7-4cee-82a6-e7aa58e56e13',\n",
       " 44: 'e621b2ac-64ce-4c76-ac9d-aa887d04e7db',\n",
       " 45: 'ff5fa84e-fa77-444f-9dbf-8998527c7682',\n",
       " 46: 'e01b9802-f235-4b6e-bd34-af61c9d47dcb',\n",
       " 47: '420ea24d-0a9e-4446-b7fa-3f01dd160f11',\n",
       " 48: '46db030f-7a75-468f-8bc0-3e20fa804137',\n",
       " 49: '057ccada-07d6-43e5-9fe3-05c5683678f0',\n",
       " 50: 'a5fef998-72ac-4a8e-84ab-b423c9a11f21',\n",
       " 51: 'c1bfdbfe-6c56-45cf-be79-504a24bb8407'}"
      ]
     },
     "execution_count": 17,
     "metadata": {},
     "output_type": "execute_result"
    }
   ],
   "source": [
    "vector_store.index_to_docstore_id"
   ]
  },
  {
   "cell_type": "code",
   "execution_count": 20,
   "metadata": {},
   "outputs": [],
   "source": [
    "question = \"talk about suplements\"\n",
    "answers = vector_store.search(query=question, k=5, search_type='similarity')"
   ]
  },
  {
   "cell_type": "code",
   "execution_count": 21,
   "metadata": {},
   "outputs": [
    {
     "data": {
      "text/plain": [
       "[Document(metadata={'source': 'docs\\\\health supplements\\\\3.health_supplements_side_effects.pdf', 'page': 10}, page_content='difficult to elucidate mechanisms, although the authors of the above case study speculated \\nthat black cohosh regulates heart rate via activation of serotonin receptors, consistent with \\nexperimental results (117). Both garlic and ginkgo biloba use have been involved in several \\ncases of excessive bleeding. For example, a 71 year-old man had persistent surgical bleeding \\nthat was attributed to indulgent garlic ingestion prior to the operation (118). Furthermore, \\naged garlic extract inhibits platelet aggregation (119). Gingkolide B, an active component of \\ngingko biloba, has been shown to inhibit platelet aggregating factor, and men and women \\ntaking ginkgo biloba have suffered spontaneous bleeding (120).\\nCompared to the above outcomes, more is known about potential herb-drug interactions. \\nPharmacologically active compounds in botanicals are, like drugs, substrates of \\nmetabolizing enzymes. As such, induction or suppression of relevant metabolizing enzymes'),\n",
       " Document(metadata={'source': 'docs\\\\health supplements\\\\3.health_supplements_side_effects.pdf', 'page': 6}, page_content='supplements is currently around 20%. Furthermore, bodybuilding and weight loss \\nsupplements account for almost half of these injuries (62). Among emergency department \\nvisits for adverse events related to dietary supplements in the US, around 25% were due to \\nweight loss products (63). There are two classes of adverse effects that may occur. \\nSupplements can have components according to the product description that cause certain \\nside effects. Supplements may also be intentionally spiked with unlisted or illegal \\ncompounds, or drugs such as anabolic steroids. These are so-called adulterated supplements. \\nSupplements containing declared compounds that have not been adequately tested for safety \\ncan also be declared adulterated by the US Food and Drug Administration (FDA). It has \\nbeen argued that adulterated supplements shouldn’t be considered real dietary supplements \\n(64). Yet, such supplements exist and can readily be obtained e.g. over the internet.'),\n",
       " Document(metadata={'source': 'docs\\\\health supplements\\\\3.health_supplements_side_effects.pdf', 'page': 10}, page_content='workout session suffered a seizure with tachycardia and hypertension, consistent with \\nyohimbine’s sympathomimetic properties (113). A 68 year-old woman taking milk thistle \\npresented with symptoms of exacerbated hemochromatosis (iron overload) that dissipated \\nwhen she stopped taking the supplement. However, this patient was genetically predisposed \\nto hemochromatosis and physicians withdrew excess iron via phlebotomy concomitant with \\nher cessation of milk thistle use (114). Ginseng use was implicated in a transient ischemia \\nattack in a 64 year-old man, though there was no evaluation as to the mechanism (115). In \\nother cardiovascular outcomes, Black cohosh was deemed “probably responsible” for \\nobserved bradycardia in a 59 year-old woman. Slow heart rate is a reported side effect of \\nblack cohosh (116). The wide variety of compounds identified in black cohosh make it \\ndifficult to elucidate mechanisms, although the authors of the above case study speculated'),\n",
       " Document(metadata={'source': 'docs\\\\health supplements\\\\3.health_supplements_side_effects.pdf', 'page': 8}, page_content='Chinese skullcap.\\nThe examples listed above represent adverse effects caused by ingredients listed by the \\nproducers. More insidious is the addition of unlisted ingredients or drugs to dietary \\nsupplements. Anti-obesity drugs rimonabant, orlistat, and sibutramine or analogues thereof \\nhave been found in weight-loss supplements from Germany, Turkey, China, and Poland (96). \\nSide effects of these drugs, like panic attacks, psychotic episodes, and increases in blood \\npressure and heart rate in the case of sibutramine may therefore also be encountered in \\nindividuals using such adulterated supplements.\\nBody-building supplements are quite often adulterated with anabolic steroids that are \\nmodified variants of androgens designed to increase muscle mass. Studies from 2001 and \\nRonis et al. Page 9\\nAnnu Rev Pharmacol Toxicol. Author manuscript; available in PMC 2019 February 19.\\nAuthor Manuscript Author Manuscript Author Manuscript Author Manuscript'),\n",
       " Document(metadata={'source': 'docs\\\\health supplements\\\\3.health_supplements_side_effects.pdf', 'page': 0}, page_content='ADVERSE EFFECTS OF NUTRACEUTICALS AND DIETARY \\nSUPPLEMENTS\\nMartin J. J. Ronis , Kim B. Pedersen , and James Watt\\nDepartment of Pharmacology & Experimental Therapeutics, Louisiana State University Health \\nSciences Center – New Orleans, Louisiana 70112\\nAbstract\\nSome form of dietary supplement is taken by over 70% of Americans every day and the \\nsupplement industry is currently big business with a gross of over $28 billion. However, unlike \\neither foods or drugs, supplements do not need to be registered or approved by the FDA prior to \\nproduction or sales. Under the Dietary Supplement Health and Education Act of 1994 (DSHEA), \\nFDA is restricted to adverse report monitoring post-marketing. Despite widespread consumption, \\nthere is limited evidence of health benefits related to nutraceutical or supplement use in well-\\nnourished adults. In contrast, a small number of these products have the potential to produce')]"
      ]
     },
     "execution_count": 21,
     "metadata": {},
     "output_type": "execute_result"
    }
   ],
   "source": [
    "answers"
   ]
  },
  {
   "cell_type": "code",
   "execution_count": 24,
   "metadata": {},
   "outputs": [
    {
     "name": "stdout",
     "output_type": "stream",
     "text": [
      "page:  10\n",
      "difficult to elucidate mechanisms, although the authors of the above case study speculated \n",
      "that black cohosh regulates heart rate via activation of serotonin receptors, consistent with \n",
      "experimental results (117). Both garlic and ginkgo biloba use have been involved in several \n",
      "cases of excessive bleeding. For example, a 71 year-old man had persistent surgical bleeding \n",
      "that was attributed to indulgent garlic ingestion prior to the operation (118). Furthermore, \n",
      "aged garlic extract inhibits platelet aggregation (119). Gingkolide B, an active component of \n",
      "gingko biloba, has been shown to inhibit platelet aggregating factor, and men and women \n",
      "taking ginkgo biloba have suffered spontaneous bleeding (120).\n",
      "Compared to the above outcomes, more is known about potential herb-drug interactions. \n",
      "Pharmacologically active compounds in botanicals are, like drugs, substrates of \n",
      "metabolizing enzymes. As such, induction or suppression of relevant metabolizing enzymes\n",
      "\n",
      "\n",
      "page:  6\n",
      "supplements is currently around 20%. Furthermore, bodybuilding and weight loss \n",
      "supplements account for almost half of these injuries (62). Among emergency department \n",
      "visits for adverse events related to dietary supplements in the US, around 25% were due to \n",
      "weight loss products (63). There are two classes of adverse effects that may occur. \n",
      "Supplements can have components according to the product description that cause certain \n",
      "side effects. Supplements may also be intentionally spiked with unlisted or illegal \n",
      "compounds, or drugs such as anabolic steroids. These are so-called adulterated supplements. \n",
      "Supplements containing declared compounds that have not been adequately tested for safety \n",
      "can also be declared adulterated by the US Food and Drug Administration (FDA). It has \n",
      "been argued that adulterated supplements shouldn’t be considered real dietary supplements \n",
      "(64). Yet, such supplements exist and can readily be obtained e.g. over the internet.\n",
      "\n",
      "\n",
      "page:  10\n",
      "workout session suffered a seizure with tachycardia and hypertension, consistent with \n",
      "yohimbine’s sympathomimetic properties (113). A 68 year-old woman taking milk thistle \n",
      "presented with symptoms of exacerbated hemochromatosis (iron overload) that dissipated \n",
      "when she stopped taking the supplement. However, this patient was genetically predisposed \n",
      "to hemochromatosis and physicians withdrew excess iron via phlebotomy concomitant with \n",
      "her cessation of milk thistle use (114). Ginseng use was implicated in a transient ischemia \n",
      "attack in a 64 year-old man, though there was no evaluation as to the mechanism (115). In \n",
      "other cardiovascular outcomes, Black cohosh was deemed “probably responsible” for \n",
      "observed bradycardia in a 59 year-old woman. Slow heart rate is a reported side effect of \n",
      "black cohosh (116). The wide variety of compounds identified in black cohosh make it \n",
      "difficult to elucidate mechanisms, although the authors of the above case study speculated\n",
      "\n",
      "\n",
      "page:  8\n",
      "Chinese skullcap.\n",
      "The examples listed above represent adverse effects caused by ingredients listed by the \n",
      "producers. More insidious is the addition of unlisted ingredients or drugs to dietary \n",
      "supplements. Anti-obesity drugs rimonabant, orlistat, and sibutramine or analogues thereof \n",
      "have been found in weight-loss supplements from Germany, Turkey, China, and Poland (96). \n",
      "Side effects of these drugs, like panic attacks, psychotic episodes, and increases in blood \n",
      "pressure and heart rate in the case of sibutramine may therefore also be encountered in \n",
      "individuals using such adulterated supplements.\n",
      "Body-building supplements are quite often adulterated with anabolic steroids that are \n",
      "modified variants of androgens designed to increase muscle mass. Studies from 2001 and \n",
      "Ronis et al. Page 9\n",
      "Annu Rev Pharmacol Toxicol. Author manuscript; available in PMC 2019 February 19.\n",
      "Author Manuscript Author Manuscript Author Manuscript Author Manuscript\n",
      "\n",
      "\n",
      "page:  0\n",
      "ADVERSE EFFECTS OF NUTRACEUTICALS AND DIETARY \n",
      "SUPPLEMENTS\n",
      "Martin J. J. Ronis , Kim B. Pedersen , and James Watt\n",
      "Department of Pharmacology & Experimental Therapeutics, Louisiana State University Health \n",
      "Sciences Center – New Orleans, Louisiana 70112\n",
      "Abstract\n",
      "Some form of dietary supplement is taken by over 70% of Americans every day and the \n",
      "supplement industry is currently big business with a gross of over $28 billion. However, unlike \n",
      "either foods or drugs, supplements do not need to be registered or approved by the FDA prior to \n",
      "production or sales. Under the Dietary Supplement Health and Education Act of 1994 (DSHEA), \n",
      "FDA is restricted to adverse report monitoring post-marketing. Despite widespread consumption, \n",
      "there is limited evidence of health benefits related to nutraceutical or supplement use in well-\n",
      "nourished adults. In contrast, a small number of these products have the potential to produce\n",
      "\n",
      "\n"
     ]
    }
   ],
   "source": [
    "for a in answers:\n",
    "    print('page: ', a.metadata.get('page'))\n",
    "    print(a.page_content)\n",
    "    print('\\n')"
   ]
  },
  {
   "cell_type": "code",
   "execution_count": 25,
   "metadata": {},
   "outputs": [],
   "source": [
    "vector_store.save_local('docs\\\\health supplements\\\\')"
   ]
  }
 ],
 "metadata": {
  "kernelspec": {
   "display_name": "langchain",
   "language": "python",
   "name": "python3"
  },
  "language_info": {
   "codemirror_mode": {
    "name": "ipython",
    "version": 3
   },
   "file_extension": ".py",
   "mimetype": "text/x-python",
   "name": "python",
   "nbconvert_exporter": "python",
   "pygments_lexer": "ipython3",
   "version": "3.10.15"
  }
 },
 "nbformat": 4,
 "nbformat_minor": 2
}
