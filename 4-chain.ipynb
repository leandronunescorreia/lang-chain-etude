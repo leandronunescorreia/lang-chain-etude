{
 "cells": [
  {
   "cell_type": "code",
   "execution_count": null,
   "metadata": {},
   "outputs": [],
   "source": [
    "from langchain_ollama import ChatOllama\n",
    "from langchain_core.prompts import SystemMessagePromptTemplate, HumanMessagePromptTemplate, PromptTemplate, ChatPromptTemplate\n",
    "\n",
    "base_url = \"http://localhost:11434\"\n",
    "model = \"phi3\"\n",
    "\n",
    "llm = ChatOllama(base_url=base_url,\n",
    "                 model=model,\n",
    "                 temperature=0.5,\n",
    "                 num_predict=256\n",
    "                 )"
   ]
  },
  {
   "cell_type": "code",
   "execution_count": 23,
   "metadata": {},
   "outputs": [],
   "source": [
    "system = SystemMessagePromptTemplate.from_template('you are a {level} guitar teacher! you answer in short sentences')\n",
    "question = HumanMessagePromptTemplate.from_template('tell me about {topics} in {points} points')"
   ]
  },
  {
   "cell_type": "code",
   "execution_count": 24,
   "metadata": {},
   "outputs": [],
   "source": [
    "messages = [system, question]\n",
    "template = ChatPromptTemplate(messages)"
   ]
  },
  {
   "cell_type": "code",
   "execution_count": 25,
   "metadata": {},
   "outputs": [],
   "source": [
    "chain = template | llm"
   ]
  },
  {
   "cell_type": "code",
   "execution_count": 26,
   "metadata": {},
   "outputs": [],
   "source": [
    "response = chain.invoke({'level':'advanced', 'topics': 'penta-blues', 'points':3})"
   ]
  },
  {
   "cell_type": "code",
   "execution_count": 9,
   "metadata": {},
   "outputs": [
    {
     "name": "stdout",
     "output_type": "stream",
     "text": [
      "1. Penta-blues is not an established genre; the term seems to be either a misnomer or a niche style combining elements of blues with pentatonic scales, possibly used for educational purposes like \"Pentatonica.\"\n",
      "\n",
      "2. If it were meant as a teaching tool in guitar education, penta-blues would likely involve simplifying traditional 12-bar blues progressions using only the notes from the minor pentatonic scale to help beginners understand and play basic blues music comfortably on their instrument.\n",
      "\n",
      "3. As an educational concept within \"Pentatonica,\" this hypothetical style might focus on cultural aspects of African American blues, teaching students about its historical significance while using a more accessible approach with fewer chords for ease of learning.\n"
     ]
    }
   ],
   "source": [
    "print(response.content)"
   ]
  },
  {
   "cell_type": "markdown",
   "metadata": {},
   "source": [
    "## Analysis of the previous output"
   ]
  },
  {
   "cell_type": "code",
   "execution_count": 27,
   "metadata": {},
   "outputs": [],
   "source": [
    "from langchain_core.output_parsers import StrOutputParser"
   ]
  },
  {
   "cell_type": "code",
   "execution_count": 29,
   "metadata": {},
   "outputs": [
    {
     "name": "stdout",
     "output_type": "stream",
     "text": [
      "Understanding penta-blues requires a grasp of music theory and guitar techniques but isn't overly complex for those with musical background or interest.\n"
     ]
    }
   ],
   "source": [
    "analysis_prompt = ChatPromptTemplate.from_template(\"\"\"analyse the following {response} verify and tell me how dificult it is to understand.\n",
    "                                     Answer in one sentence only.\n",
    "                                     \"\"\")\n",
    "\n",
    "answer_analysis = analysis_prompt |llm | StrOutputParser()\n",
    "output = answer_analysis.invoke({'response': response})\n",
    "print(output)"
   ]
  },
  {
   "cell_type": "markdown",
   "metadata": {},
   "source": [
    "## Composed chain"
   ]
  },
  {
   "cell_type": "code",
   "execution_count": 30,
   "metadata": {},
   "outputs": [],
   "source": [
    "composed_chain = {'response': chain} | analysis_prompt | llm | StrOutputParser()"
   ]
  },
  {
   "cell_type": "code",
   "execution_count": 31,
   "metadata": {},
   "outputs": [],
   "source": [
    "output = composed_chain.invoke({'level':'advanced', 'topics': 'fusion improvisation', 'points':3})"
   ]
  },
  {
   "cell_type": "code",
   "execution_count": 32,
   "metadata": {},
   "outputs": [
    {
     "name": "stdout",
     "output_type": "stream",
     "text": [
      "Understanding the provided content requires some familiarity with music theory but isn't overly difficult for someone interested in or knowledgeable about modern musical genres.\n"
     ]
    }
   ],
   "source": [
    "print(output)"
   ]
  },
  {
   "cell_type": "markdown",
   "metadata": {},
   "source": [
    "## Chain Router"
   ]
  },
  {
   "cell_type": "code",
   "execution_count": null,
   "metadata": {},
   "outputs": [],
   "source": [
    "\n",
    "\n",
    "prompt = \"\"\"\n",
    "Given the user review below, classify it as either being about 'Positive' or 'Negative'\n",
    "Do not respond with more than one word.\n",
    "\n",
    "review: {question}\n",
    "classification:\n",
    "\"\"\""
   ]
  },
  {
   "cell_type": "code",
   "execution_count": 15,
   "metadata": {},
   "outputs": [],
   "source": [
    "template = ChatPromptTemplate.from_template(prompt)"
   ]
  },
  {
   "cell_type": "code",
   "execution_count": 16,
   "metadata": {},
   "outputs": [],
   "source": [
    "chain = template | llm | StrOutputParser()"
   ]
  },
  {
   "cell_type": "code",
   "execution_count": 17,
   "metadata": {},
   "outputs": [],
   "source": [
    "review = \"Thank you so much to providing such a great platform for learning, I'm really happy with your service\"\n",
    "response = chain.invoke(review)"
   ]
  },
  {
   "cell_type": "code",
   "execution_count": 18,
   "metadata": {},
   "outputs": [
    {
     "data": {
      "text/plain": [
       "'\\nPositive'"
      ]
     },
     "execution_count": 18,
     "metadata": {},
     "output_type": "execute_result"
    }
   ],
   "source": [
    "response"
   ]
  },
  {
   "cell_type": "code",
   "execution_count": 19,
   "metadata": {},
   "outputs": [
    {
     "data": {
      "text/plain": [
       "'Negative'"
      ]
     },
     "execution_count": 19,
     "metadata": {},
     "output_type": "execute_result"
    }
   ],
   "source": [
    "review = \"você é um saco de merda, sua plataforma fede e você é um escroto\"\n",
    "response = chain.invoke(review)\n",
    "response"
   ]
  },
  {
   "cell_type": "code",
   "execution_count": null,
   "metadata": {},
   "outputs": [],
   "source": []
  }
 ],
 "metadata": {
  "kernelspec": {
   "display_name": "langchain",
   "language": "python",
   "name": "python3"
  },
  "language_info": {
   "codemirror_mode": {
    "name": "ipython",
    "version": 3
   },
   "file_extension": ".py",
   "mimetype": "text/x-python",
   "name": "python",
   "nbconvert_exporter": "python",
   "pygments_lexer": "ipython3",
   "version": "3.10.15"
  }
 },
 "nbformat": 4,
 "nbformat_minor": 2
}
